{
 "cells": [
  {
   "cell_type": "markdown",
   "id": "35c2aabb",
   "metadata": {},
   "source": [
    "TEM QUE ENTRAR NO PROMPT DO ANACONDA \n",
    "Digitar : pip install jupyterthemes\n",
    "Depois digitar: jt -t grade3\n"
   ]
  },
  {
   "cell_type": "code",
   "execution_count": 4,
   "id": "a5d1660d",
   "metadata": {},
   "outputs": [],
   "source": [
    "!jt -t oceans16 -T -N -kl"
   ]
  },
  {
   "cell_type": "markdown",
   "id": "1d67742c",
   "metadata": {},
   "source": [
    "### O CODIGO  ACIMA É O PRIMEIRO PASSO DENTRO DO SISTEMA"
   ]
  },
  {
   "cell_type": "markdown",
   "id": "0de8e6f3",
   "metadata": {},
   "source": [
    "#### O SEGUNDO PRINCIPAL QUE DEIXOU ESSA TELA E ESTE DEBAIXO"
   ]
  },
  {
   "cell_type": "markdown",
   "id": "83c6da9b",
   "metadata": {},
   "source": [
    "#### !jt -t monokai -f fira -fs 12 -nf ptsans -nfs 12 -N -kl -cursw 2 -cursc r -cellw 90% -ofs 12 -dfs 12 -T\n"
   ]
  }
 ],
 "metadata": {
  "kernelspec": {
   "display_name": "Python 3",
   "language": "python",
   "name": "python3"
  },
  "language_info": {
   "codemirror_mode": {
    "name": "ipython",
    "version": 3
   },
   "file_extension": ".py",
   "mimetype": "text/x-python",
   "name": "python",
   "nbconvert_exporter": "python",
   "pygments_lexer": "ipython3",
   "version": "3.8.8"
  }
 },
 "nbformat": 4,
 "nbformat_minor": 5
}
