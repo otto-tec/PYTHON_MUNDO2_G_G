{
 "cells": [
  {
   "cell_type": "markdown",
   "id": "d271b758",
   "metadata": {},
   "source": [
    "## DESAFIO 66\n",
    "### Crie um programa que leia vários números inteiros pelo teclado. O programa só vai parar quando o usuário digitar o valor 999, que é a condição de parada. No final, mostre quantos números foram digitados e qual foi a soma entre eles (desconsiderando o flag)."
   ]
  },
  {
   "cell_type": "code",
   "execution_count": 2,
   "id": "4d3925b3",
   "metadata": {},
   "outputs": [
    {
     "name": "stdout",
     "output_type": "stream",
     "text": [
      "Digite um valor (999 para parar): 4\n",
      "Digite um valor (999 para parar): 5\n",
      "Digite um valor (999 para parar): 6\n",
      "Digite um valor (999 para parar): 999\n",
      "A soma dos 3 valores foi 15.0!\n"
     ]
    }
   ],
   "source": [
    "acum = soma = n1 = 0\n",
    "while n1 != 999:\n",
    "    n1 = float(input('Digite um valor (999 para parar): '))\n",
    "    if n1 == 999:\n",
    "        break\n",
    "    soma += n1\n",
    "    acum += 1\n",
    "    \n",
    "print(f'A soma dos {acum} valores foi {soma}!')"
   ]
  },
  {
   "cell_type": "markdown",
   "id": "b7ddbf9a",
   "metadata": {},
   "source": [
    "#### O Gustavo fez o programa exatamente igual ao meu.  Só mudou o nome das variáveis."
   ]
  }
 ],
 "metadata": {
  "kernelspec": {
   "display_name": "Python 3",
   "language": "python",
   "name": "python3"
  },
  "language_info": {
   "codemirror_mode": {
    "name": "ipython",
    "version": 3
   },
   "file_extension": ".py",
   "mimetype": "text/x-python",
   "name": "python",
   "nbconvert_exporter": "python",
   "pygments_lexer": "ipython3",
   "version": "3.8.8"
  }
 },
 "nbformat": 4,
 "nbformat_minor": 5
}
