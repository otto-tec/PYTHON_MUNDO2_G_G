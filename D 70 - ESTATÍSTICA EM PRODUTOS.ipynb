{
 "cells": [
  {
   "cell_type": "markdown",
   "id": "048c6e0b",
   "metadata": {},
   "source": [
    "## DESAFIO 70\n",
    "### Crie um programa que leia o nome e o preço de vários produtos. O programa devera prguntar se o usuário vai continuar. No final, mostre:\n",
    "\n",
    "#### A) Qual é o total gasto na compra.\n",
    "#### B) Quantos produtos custam mais de RS 1000,00\n",
    "#### C) Qual é o nome do produto mais barato"
   ]
  },
  {
   "cell_type": "code",
   "execution_count": 2,
   "id": "e35e2107",
   "metadata": {},
   "outputs": [
    {
     "name": "stdout",
     "output_type": "stream",
     "text": [
      "========================================\n",
      "          LOJA SUPER BARATÃO\n",
      "========================================\n",
      "Nome do Produto: lAPIS\n",
      "Preço: 10\n",
      "Quer continuar? [S/N] S\n",
      "Nome do Produto: COMPUTADOR\n",
      "Preço: 2000\n",
      "Quer continuar? [S/N] S\n",
      "Nome do Produto: CANECA\n",
      "Preço: 20\n",
      "Quer continuar? [S/N] N\n",
      "==========FIM DO PROGRAMA==========\n",
      "O total da compra foi R$ 2030.00\n",
      "Temos 1 produtos custando mais de R$ 1000,00\n",
      "O produto mais barato foi lAPIS que custa R$ 10.00\n"
     ]
    }
   ],
   "source": [
    "# Programa que eu fiz\n",
    "import time\n",
    "print('=' * 40)\n",
    "print('          LOJA SUPER BARATÃO')\n",
    "print('=' * 40)\n",
    "time.sleep(0.5)\n",
    "soma = cust = c_mb = 0\n",
    "p_mb = ''\n",
    "cont = ''\n",
    "i = 0   # Esse foi um golpe de mestre. Com ele eu começo o ciclo para associar o 1° produto a variável c_mb\n",
    "while True:\n",
    "\n",
    "        prod = str(input('Nome do Produto: '))\n",
    "        price = float(input('Preço: '))\n",
    "        soma += price  \n",
    "        cont = input('Quer continuar? [S/N] ').upper().strip()[0]\n",
    "        if price > 1000:\n",
    "            cust += 1\n",
    "        if c_mb > price or i == 0:\n",
    "            c_mb = price\n",
    "            p_mb = prod\n",
    "            i = 1\n",
    "        while cont not in 'SN':\n",
    "            cont = input('Quer continuar? [S/N] ').upper().strip()[0]\n",
    "        if cont == 'N':\n",
    "            break\n",
    "    \n",
    "print('==========FIM DO PROGRAMA==========')\n",
    "print(f'O total da compra foi R$ {soma:.2f}')\n",
    "print(f'Temos {cust} produtos custando mais de R$ 1000,00')\n",
    "print(f'O produto mais barato foi {p_mb} que custa R$ {c_mb:.2f}')"
   ]
  },
  {
   "cell_type": "code",
   "execution_count": 4,
   "id": "737910b2",
   "metadata": {},
   "outputs": [
    {
     "name": "stdout",
     "output_type": "stream",
     "text": [
      "Nome do Produto: aa\n",
      "Preço: R$ 40\n",
      "Quer continuar? [S/N] s\n",
      "Nome do Produto: bbb\n",
      "Preço: R$ 50\n",
      "Quer continuar? [S/N] s\n",
      "Nome do Produto: Computador\n",
      "Preço: R$ 1700\n",
      "Quer continuar? [S/N] s\n",
      "Nome do Produto: lapis\n",
      "Preço: R$ 5\n",
      "Quer continuar? [S/N] n\n",
      "----------- FIM DO PROGRAMA ------------\n",
      "O total da compra foi R$1795.00\n",
      "Temos 1 produtos custando mais de R$1000,00\n",
      "O produto mais barato foi lapis que custa R$5.00\n"
     ]
    }
   ],
   "source": [
    "# PROGRAMA FEITO PELO GUSTAVO\n",
    "total = totmil = menor = cont = 0\n",
    "barato = ''\n",
    "while True:\n",
    "    produto = str(input('Nome do Produto: '))\n",
    "    preço = float(input('Preço: R$ '))\n",
    "    cont += 1\n",
    "    total += preço\n",
    "    if preço > 1000:\n",
    "        totmil += 1\n",
    "    if cont == 1 or preço < menor:\n",
    "        menor = preço\n",
    "        barato = produto\n",
    "    else:\n",
    "        if preço < menor:\n",
    "            menor = preço\n",
    "            barato = produto\n",
    "    resp = ' '\n",
    "    while resp not in 'SN':\n",
    "        resp = str(input('Quer continuar? [S/N] ')).strip().upper()[0]\n",
    "    if resp == 'N':\n",
    "        break\n",
    "print('{:-^40}'.format(' FIM DO PROGRAMA '))\n",
    "print(f'O total da compra foi R${total:.2f}')\n",
    "print(f'Temos {totmil} produtos custando mais de R$1000,00')\n",
    "print(f'O produto mais barato foi {barato} que custa R${menor:.2f}')\n",
    "      "
   ]
  },
  {
   "cell_type": "code",
   "execution_count": null,
   "id": "ef28eac1",
   "metadata": {},
   "outputs": [],
   "source": []
  }
 ],
 "metadata": {
  "kernelspec": {
   "display_name": "Python 3",
   "language": "python",
   "name": "python3"
  },
  "language_info": {
   "codemirror_mode": {
    "name": "ipython",
    "version": 3
   },
   "file_extension": ".py",
   "mimetype": "text/x-python",
   "name": "python",
   "nbconvert_exporter": "python",
   "pygments_lexer": "ipython3",
   "version": "3.8.8"
  }
 },
 "nbformat": 4,
 "nbformat_minor": 5
}
