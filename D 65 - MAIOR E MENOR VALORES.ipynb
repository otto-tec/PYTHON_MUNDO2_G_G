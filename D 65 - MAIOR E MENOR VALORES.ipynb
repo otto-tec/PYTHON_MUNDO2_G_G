{
 "cells": [
  {
   "cell_type": "markdown",
   "id": "30a54219",
   "metadata": {},
   "source": [
    "## DESAFIO 65\n",
    "### Crie um programa que leia vários números inteiros pelo teclado. No final da execução, mostre a média entre todos os valores e qual foi o maior e o menor valores lidos. O programa deve perguntar ao usuário se ele quer ou não continuar a digitar valores."
   ]
  },
  {
   "cell_type": "code",
   "execution_count": 18,
   "id": "900fa931",
   "metadata": {},
   "outputs": [
    {
     "name": "stdout",
     "output_type": "stream",
     "text": [
      "Digite um número: 5\n",
      "Quer continuar? [S/N] s\n",
      "Digite um número: 8\n",
      "Quer continuar? [S/N] s\n",
      "Digite um número: 2\n",
      "Quer continuar? [S/N] n\n",
      "Você digitou 3 números e a média foi 5.0\n",
      "O maior valor foi 8.0 e o menor foi 2.0.\n"
     ]
    }
   ],
   "source": [
    "#PROGRAMA QUE EU FIZ\n",
    "n = cont = med = acum = soma = 0 \n",
    "acum = []\n",
    "while True:\n",
    "    n = float(input('Digite um número: '))\n",
    "    cont += 1\n",
    "    acum += [n]\n",
    "    soma += n\n",
    "    med = soma / cont\n",
    "    acr = input('Quer continuar? [S/N] ').upper()\n",
    "    if acr == 'N':\n",
    "        break\n",
    "print(f'Você digitou {cont} números e a média foi {med}')\n",
    "print(f'O maior valor foi {max(acum)} e o menor foi {min(acum)}.')"
   ]
  },
  {
   "cell_type": "code",
   "execution_count": 21,
   "id": "b6f3956f",
   "metadata": {},
   "outputs": [
    {
     "name": "stdout",
     "output_type": "stream",
     "text": [
      "Digite um número: 5\n",
      "Quer continuar? [S/N] s\n",
      "Digite um número: 4\n",
      "Quer continuar? [S/N] n\n",
      "Você digitou 2 números e a média foi 4.5\n",
      "O maior valor foi 5 e o menor foi 4.\n"
     ]
    }
   ],
   "source": [
    "#PROGRAMA FEITO PELO GUSTAVO\n",
    "\n",
    "resp = 'S'\n",
    "soma = quant = média = maior = menor = 0\n",
    "while resp in 'Ss':\n",
    "    núm = int(input('Digite um número: '))\n",
    "    soma += núm\n",
    "    quant += 1\n",
    "    if quant == 1:\n",
    "        maior = menor = núm\n",
    "    else:\n",
    "        if núm > maior:\n",
    "            maior = núm\n",
    "        if núm < menor:\n",
    "            menor = núm\n",
    "    resp = str(input('Quer continuar? [S/N] ')).upper().strip()[0]\n",
    "média = soma / quant\n",
    "print('Você digitou {} números e a média foi {}'.format(quant, média))\n",
    "print('O maior valor foi {} e o menor foi {}.'.format(maior, menor))\n",
    "    "
   ]
  },
  {
   "cell_type": "markdown",
   "id": "28eb6279",
   "metadata": {},
   "source": [
    "### OBSERVAÇÕES\n",
    "#### O meu código ocupou 13 linhas, o do Guanabara 17. No código dele foi usada uma técnica para análise de maior e menor número. O forma que ele fez não precisa transformar o input em uma lista."
   ]
  },
  {
   "cell_type": "code",
   "execution_count": null,
   "id": "c9844dec",
   "metadata": {},
   "outputs": [],
   "source": []
  }
 ],
 "metadata": {
  "kernelspec": {
   "display_name": "Python 3",
   "language": "python",
   "name": "python3"
  },
  "language_info": {
   "codemirror_mode": {
    "name": "ipython",
    "version": 3
   },
   "file_extension": ".py",
   "mimetype": "text/x-python",
   "name": "python",
   "nbconvert_exporter": "python",
   "pygments_lexer": "ipython3",
   "version": "3.8.8"
  }
 },
 "nbformat": 4,
 "nbformat_minor": 5
}
