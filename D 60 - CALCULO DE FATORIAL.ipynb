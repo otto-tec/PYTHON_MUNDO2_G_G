{
 "cells": [
  {
   "cell_type": "markdown",
   "id": "e13f0f0a",
   "metadata": {},
   "source": [
    "## DESAFIO 60\n",
    "### Faça um programa que leia um número qualquer e mostre o seu fatorial."
   ]
  },
  {
   "cell_type": "code",
   "execution_count": 6,
   "id": "218779a0",
   "metadata": {},
   "outputs": [
    {
     "name": "stdout",
     "output_type": "stream",
     "text": [
      "Digite um número para \n",
      "calcular seu Fatorial: 3\n",
      "Calculando 3! = 6\n"
     ]
    }
   ],
   "source": [
    "# Tirei a biblioteca pelo Gustavo\n",
    "from math import factorial\n",
    "\n",
    "n1 = int(input('''Digite um número para \n",
    "calcular seu Fatorial: '''))\n",
    "\n",
    "saida = factorial(n1)\n",
    "\n",
    "print('Calculando {}! = {}'.format(n1, saida))\n",
    "\n"
   ]
  },
  {
   "cell_type": "code",
   "execution_count": 13,
   "id": "85b7d320",
   "metadata": {},
   "outputs": [
    {
     "name": "stdout",
     "output_type": "stream",
     "text": [
      "Digite um número para \n",
      "calcular seu Fatorial: 5\n",
      "Calculando 5! = 5 x 4 x 3 x 2 x 1 = 120\n"
     ]
    }
   ],
   "source": [
    "# Programação feita por ele\n",
    "n1 = int(input('''Digite um número para \n",
    "calcular seu Fatorial: '''))\n",
    "c = n1\n",
    "f = 1\n",
    "print('Calculando {}! = '.format(n1), end='')\n",
    "\n",
    "while c > 0:\n",
    "      print('{}'.format(c), end = '')\n",
    "      print(' x ' if c > 1 else ' = ', end='')\n",
    "      f *= c\n",
    "      c -= 1\n",
    "print('{}'.format(f))\n"
   ]
  },
  {
   "cell_type": "markdown",
   "id": "3f390add",
   "metadata": {},
   "source": [
    "### DESAFIO EXTRA. FAZER O MESMO USANDO FOR"
   ]
  },
  {
   "cell_type": "code",
   "execution_count": 15,
   "id": "5796f4f3",
   "metadata": {},
   "outputs": [
    {
     "name": "stdout",
     "output_type": "stream",
     "text": [
      "Digite um número para \n",
      "calcular seu Fatorial: 5\n",
      "Calculando 5! = 5 x 4 x 3 x 2 x 1 = 120\n"
     ]
    }
   ],
   "source": [
    "# Feito sem pegar informações externas\n",
    "n1 = int(input('''Digite um número para \n",
    "calcular seu Fatorial: '''))\n",
    "c = n1\n",
    "f = 1\n",
    "print('Calculando {}! = '.format(n1), end='')\n",
    "\n",
    "for c in range (n1, 0, -1):\n",
    "      print('{}'.format(c), end = '')\n",
    "      print(' x ' if c > 1 else ' = ', end='')\n",
    "      f *= c\n",
    "print('{}'.format(f))\n"
   ]
  },
  {
   "cell_type": "code",
   "execution_count": null,
   "id": "6403b257",
   "metadata": {},
   "outputs": [],
   "source": []
  }
 ],
 "metadata": {
  "kernelspec": {
   "display_name": "Python 3",
   "language": "python",
   "name": "python3"
  }
 },
 "nbformat": 4,
 "nbformat_minor": 5
}
