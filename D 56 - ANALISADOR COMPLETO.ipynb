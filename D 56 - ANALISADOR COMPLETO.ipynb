{
 "cells": [
  {
   "cell_type": "markdown",
   "id": "31f831d0",
   "metadata": {},
   "source": [
    "## DESAFIO 56\n",
    "### Desenvolva um programa que leia o nome, idade e sexo de 4 pessoas. No final do programa mostre:\n",
    "- A média de idade do grupo.\n",
    "- Qual é o nome do homem mais velho.\n",
    "- Quantas mulheres tem menos de 20 anos."
   ]
  },
  {
   "cell_type": "code",
   "execution_count": 5,
   "id": "d61d5858",
   "metadata": {},
   "outputs": [
    {
     "name": "stdout",
     "output_type": "stream",
     "text": [
      "===================================\n",
      "      Cadastro da 1° pessoa\n",
      "===================================\n",
      "Nome: CAROL\n",
      "Idade: 15\n",
      "Sexo[M/F]: F\n",
      "===================================\n",
      "      Cadastro da 2° pessoa\n",
      "===================================\n",
      "Nome: MARCIA\n",
      "Idade: 16\n",
      "Sexo[M/F]: F\n",
      "===================================\n",
      "      Cadastro da 3° pessoa\n",
      "===================================\n",
      "Nome: KARINA\n",
      "Idade: 19\n",
      "Sexo[M/F]: F\n",
      "===================================\n",
      "      Cadastro da 4° pessoa\n",
      "===================================\n",
      "Nome: MARCOS\n",
      "Idade: 20\n",
      "Sexo[M/F]: M\n",
      "A média de idade do grupo é de 17.5 anos.\n",
      "O homem mais velho tem 20.0 anos e se chama MARCOS.\n",
      "Ao todo são 3 mulheres com menos de 20 anos.\n"
     ]
    }
   ],
   "source": [
    "# VARIÁVEIS QUE SERÃO USADAS NO GLOBAL E DENTRO DO LOOP\n",
    "somaidade =       0\n",
    "maioridadehomem = 0\n",
    "nomevelho =       ''\n",
    "totmulher20 =     0\n",
    "\n",
    "for p in range(1, 5):\n",
    "   \n",
    "    # CABEÇALHO\n",
    "    print('=' * 35)\n",
    "    print('      Cadastro da {}° pessoa'.format(p))\n",
    "    print('=' * 35)\n",
    "   \n",
    "    #LOOP DO CADASTRO\n",
    "    nome = input('Nome: ').strip()\n",
    "    idade = float(input('Idade: '))\n",
    "    sexo = input('Sexo[M/F]: ').strip()\n",
    "    \n",
    "    #LÓGICA PARA O 1° PRINT\n",
    "    somaidade += idade \n",
    "    \n",
    "    #LÓGICA PARA O 2° PRINT\n",
    "    if p ==1 and sexo in 'Mm':  # Nesse sistema ela pega o 1° cadastro masculino\n",
    "        maioridadehomem = idade \n",
    "        nomevelho = nome\n",
    "    \n",
    "    if sexo in 'Mm' and idade > maioridadehomem: # >>>AQUI ESTÁ O PULO DO GATO. AQUI ELE ATUALIZA QUEM É O MAIS VELHO<<<\n",
    "        maioridadehomem = idade\n",
    "        nomevelho = nome\n",
    "    \n",
    "    #LÓGICA PARA O 3° PRINT\n",
    "    if sexo in 'Ff' and idade < 20:\n",
    "        totmulher20 += 1\n",
    "\n",
    "#LÓGICA FINAL PARA O 1° PRINT\n",
    "mediaidade =  somaidade/ 4\n",
    "\n",
    "\n",
    "    \n",
    "print('A média de idade do grupo é de {} anos.'.format(mediaidade))\n",
    "print('O homem mais velho tem {} anos e se chama {}.'.format(maioridadehomem, nomevelho))\n",
    "print('Ao todo são {} mulheres com menos de 20 anos.'.format(totmulher20))"
   ]
  },
  {
   "cell_type": "code",
   "execution_count": null,
   "id": "a44d2aea",
   "metadata": {},
   "outputs": [],
   "source": []
  }
 ],
 "metadata": {
  "kernelspec": {
   "display_name": "Python 3",
   "language": "python",
   "name": "python3"
  },
  "language_info": {
   "codemirror_mode": {
    "name": "ipython",
    "version": 3
   },
   "file_extension": ".py",
   "mimetype": "text/x-python",
   "name": "python",
   "nbconvert_exporter": "python",
   "pygments_lexer": "ipython3",
   "version": "3.8.8"
  }
 },
 "nbformat": 4,
 "nbformat_minor": 5
}
