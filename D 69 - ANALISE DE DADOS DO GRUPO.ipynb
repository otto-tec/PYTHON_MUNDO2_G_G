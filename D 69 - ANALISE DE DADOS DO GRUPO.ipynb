{
 "cells": [
  {
   "cell_type": "markdown",
   "id": "e6d748af",
   "metadata": {},
   "source": [
    "## DESAFIO 69\n",
    "### Crie um programa que leia a idade e o sexo de v-árias pessoas. A cada pessoa cadastrada, o programa deverá perguntar se o usuário quer ou não continuar. No final, mostre:\n",
    "##### A) quantas pessoas tem mais de 18 anos.\n",
    "##### B) Quantos homens foram cadastrados.\n",
    "##### C) Quantas mulheres tem menos de 20 anos."
   ]
  },
  {
   "cell_type": "code",
   "execution_count": null,
   "id": "37904168",
   "metadata": {},
   "outputs": [],
   "source": [
    "# PROGRAMA QUE EU FIZ\n",
    "print('=' * 30)\n",
    "print('  CADASTRE UMA PESSOA')\n",
    "print('=' * 30)\n",
    "\n",
    "dec = 'S'\n",
    "id_18 = men = women = 0\n",
    "while True:\n",
    "    \n",
    "    if dec in 'S':\n",
    "        idade = int(input('IDADE: '))\n",
    "        sexo = input('SEXO [M/F]: ').upper().strip()[0]\n",
    "        print('=' * 30)\n",
    "    if idade > 18:\n",
    "         id_18 += 1 \n",
    "    if sexo in 'M':\n",
    "          men += 1\n",
    "    if idade < 20 and sexo == 'F':\n",
    "          women += 1\n",
    "    dec = input('Quer continuar? [S/N] ').upper().strip()\n",
    "    if dec == 'N':\n",
    "            break  \n",
    "            \n",
    "print(f'Total de pessoas com mais de 18 anos: {id_18}.')\n",
    "print(f'Ao total temos {men} homens cadastrados.')\n",
    "print(f'E temos {women} mulheres com menos de 20 anos.')"
   ]
  },
  {
   "cell_type": "code",
   "execution_count": 2,
   "id": "f66fe854",
   "metadata": {},
   "outputs": [
    {
     "name": "stdout",
     "output_type": "stream",
     "text": [
      "Idade: 3\n",
      "Sexo: [M/F] g\n",
      "Sexo: [M/F] h\n",
      "Sexo: [M/F] r\n",
      "Sexo: [M/F] m\n",
      "Quer continuar? [S/N] h\n",
      "Quer continuar? [S/N] tr\n",
      "Quer continuar? [S/N] s\n",
      "Idade: 30\n",
      "Sexo: [M/F] M\n",
      "Quer continuar? [S/N] s\n",
      "Idade: 18\n",
      "Sexo: [M/F] f\n",
      "Quer continuar? [S/N] s\n",
      "Idade: 30\n",
      "Sexo: [M/F] m\n",
      "Quer continuar? [S/N] n\n",
      "Total de pessoas com mais de 18 anos: 3\n",
      "Ao todo temos 3 homens cadastrados\n",
      "E temos 1 mulheres com menos de 20 anos\n"
     ]
    }
   ],
   "source": [
    "# PROGRAMA QUE O GUSTAVO FEZ\n",
    "tot18 = totH = totM20 = 0\n",
    "while True:\n",
    "    idade = int(input('Idade: '))\n",
    "    sexo = ' ' # MUITA ATENÇÃO NESTAS DUAS LINHAS. FOI CRIADA UMA CONDICIONAL WHILE CRIANDO UMA VARIAVEL\n",
    "    while sexo not in 'MF':\n",
    "        sexo = str(input('Sexo: [M/F] ')).strip().upper()[0]\n",
    "    if idade >= 18:\n",
    "        tot18 += 1\n",
    "    if sexo == 'M':\n",
    "        totH += 1\n",
    "    if sexo == 'F' and idade < 20:\n",
    "        totM20 += 1\n",
    "    resp = ' ' # AQUI A SITUAÇÃO SE REPETE. JOGADA ÓTIMA PARA ELIMINAR ERROS DE DIGITAÇÃO.\n",
    "    while resp not in 'SN':\n",
    "        resp = str(input('Quer continuar? [S/N] ')).strip().upper()[0]\n",
    "    if resp == 'N':\n",
    "        break\n",
    "print(f'Total de pessoas com mais de 18 anos: {tot18}')\n",
    "print(f'Ao todo temos {totH} homens cadastrados')\n",
    "print(f'E temos {totM20} mulheres com menos de 20 anos')\n"
   ]
  },
  {
   "cell_type": "markdown",
   "id": "079c2f2b",
   "metadata": {},
   "source": [
    "### OBSERVAÇÕES\n",
    "#### Pude perceber que na programação que o Gustavo fez também houve a necessidade de criar vários if. É possível perceber que não há NENHUM elif nem else. Fica a dica.\n",
    "#### Outra coisa muito interessante foi o fato dele ter criado outros laços while dentro do while True. Isso permitiu criar regras que eliminam a possibilidade de erro na digitação por parte do usuário."
   ]
  },
  {
   "cell_type": "code",
   "execution_count": null,
   "id": "2aaca2c8",
   "metadata": {},
   "outputs": [],
   "source": []
  }
 ],
 "metadata": {
  "kernelspec": {
   "display_name": "Python 3",
   "language": "python",
   "name": "python3"
  },
  "language_info": {
   "codemirror_mode": {
    "name": "ipython",
    "version": 3
   },
   "file_extension": ".py",
   "mimetype": "text/x-python",
   "name": "python",
   "nbconvert_exporter": "python",
   "pygments_lexer": "ipython3",
   "version": "3.8.8"
  }
 },
 "nbformat": 4,
 "nbformat_minor": 5
}
