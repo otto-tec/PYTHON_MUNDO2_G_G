{
 "cells": [
  {
   "cell_type": "markdown",
   "id": "fae0fca2",
   "metadata": {},
   "source": [
    "## DESAFIO 50\n",
    "### Desenvolva um programa que leia seis números inteiros e mostre a soma apenas daqueles que forem pares. Se o valor digitado for impar, desconsidere-o."
   ]
  },
  {
   "cell_type": "code",
   "execution_count": 7,
   "id": "2031604e",
   "metadata": {},
   "outputs": [
    {
     "name": "stdout",
     "output_type": "stream",
     "text": [
      "Insira o 1° num.: 1\n",
      "Insira o 2° num.: 2\n",
      "Insira o 3° num.: 3\n",
      "Insira o 4° num.: 4\n",
      "Insira o 5° num.: 5\n",
      "Insira o 6° num.: 6\n",
      "12\n"
     ]
    }
   ],
   "source": [
    "# MEU PROGRAMA SEM AJUDA,NEM DA INTERNET\n",
    "n1 = int(input('Insira o 1° num.: '))\n",
    "n2 = int(input('Insira o 2° num.: '))\n",
    "n3 = int(input('Insira o 3° num.: '))\n",
    "n4 = int(input('Insira o 4° num.: '))\n",
    "n5 = int(input('Insira o 5° num.: '))\n",
    "n6 = int(input('Insira o 6° num.: '))\n",
    "\n",
    "soma = 0\n",
    "for i in range(n1, n6+1):\n",
    "    if i % 2 == 0:\n",
    "        soma += i\n",
    "\n",
    "print(soma)"
   ]
  },
  {
   "cell_type": "code",
   "execution_count": 6,
   "id": "f7ce3e65",
   "metadata": {},
   "outputs": [
    {
     "name": "stdout",
     "output_type": "stream",
     "text": [
      "Digite 1° valor: 1\n",
      "Digite 2° valor: 2\n",
      "Digite 3° valor: 3\n",
      "Digite 4° valor: 4\n",
      "Digite 5° valor: 5\n",
      "Digite 6° valor: 6\n",
      "Você informou 3 números pares e a soma foi 12\n"
     ]
    }
   ],
   "source": [
    "#Programa do Gustavo\n",
    "soma = 0\n",
    "cont = 0\n",
    "for c in range(1, 7):\n",
    "    num = int(input('Digite {}° valor: '.format(c)))\n",
    "    if num % 2 == 0:\n",
    "        soma += num\n",
    "        cont += 1\n",
    "print('Você informou {} números pares e a soma foi {}'.format(cont, soma))\n",
    "    "
   ]
  },
  {
   "cell_type": "markdown",
   "id": "8a0f0d04",
   "metadata": {},
   "source": [
    "#### Nem preciso comentar que é outro nível... Ele colocou o input em um loop, usou o mesmo loop para guardar 2 informações e criou uma frase de saida dinâmica com as duas variáveis. Top."
   ]
  },
  {
   "cell_type": "code",
   "execution_count": null,
   "id": "98eddb8e",
   "metadata": {},
   "outputs": [],
   "source": []
  }
 ],
 "metadata": {
  "kernelspec": {
   "display_name": "Python 3",
   "language": "python",
   "name": "python3"
  },
  "language_info": {
   "codemirror_mode": {
    "name": "ipython",
    "version": 3
   },
   "file_extension": ".py",
   "mimetype": "text/x-python",
   "name": "python",
   "nbconvert_exporter": "python",
   "pygments_lexer": "ipython3",
   "version": "3.8.8"
  }
 },
 "nbformat": 4,
 "nbformat_minor": 5
}
