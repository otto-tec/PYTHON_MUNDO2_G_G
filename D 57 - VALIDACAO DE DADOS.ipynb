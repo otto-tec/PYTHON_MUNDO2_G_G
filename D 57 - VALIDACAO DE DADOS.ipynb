{
 "cells": [
  {
   "cell_type": "markdown",
   "id": "62e81062",
   "metadata": {},
   "source": [
    "## DESAFIO 57\n",
    "### Faça um programa que leia o sexo de uma pessoa, mas só aceite os valores 'M' ou 'F'. Caso esteja errado , peça a digitação novamente até um valor correto."
   ]
  },
  {
   "cell_type": "code",
   "execution_count": 1,
   "id": "7b60c865",
   "metadata": {},
   "outputs": [
    {
     "name": "stdout",
     "output_type": "stream",
     "text": [
      "Informe seu sexo:[M/F] G\n",
      "Dados inválidos. Por favor, informe seu sexo:[M/F] F\n",
      "Sexo F registrado com sucesso\n"
     ]
    }
   ],
   "source": [
    "# PROGRAMAÇÃO QUE EU FIZ\n",
    "c = 0 # >>>>>> Criei essa variável somente para controle do While\n",
    "entr = input('Informe seu sexo:[M/F] ').upper()\n",
    "saida = ''\n",
    "\n",
    "while c == 0:\n",
    "        if entr == 'M' or entr =='F':\n",
    "            saida += entr\n",
    "            c += 1 \n",
    "        else:\n",
    "            entr2 = input('Dados inválidos. Por favor, informe seu sexo:[M/F] ').upper()\n",
    "            if entr2 == 'M' or entr2 == 'F':\n",
    "                saida += entr2\n",
    "                c += 1\n",
    "\n",
    "\n",
    "\n",
    "\n",
    "\n",
    "print('Sexo {} registrado com sucesso'.format(saida))"
   ]
  },
  {
   "cell_type": "code",
   "execution_count": 2,
   "id": "3c6d306c",
   "metadata": {},
   "outputs": [
    {
     "name": "stdout",
     "output_type": "stream",
     "text": [
      "INforme seu sexo:[M/F] G\n",
      "Dados inválidos. Por favor, informe seu sexo: H\n",
      "Dados inválidos. Por favor, informe seu sexo: masculino\n",
      "Sexo M registrado com sucesso\n"
     ]
    }
   ],
   "source": [
    "# PROGRAMAÇÃO FEITA PELO GUSTAVO\n",
    "\n",
    "sexo = str(input('INforme seu sexo:[M/F] ')).strip().upper()[0]\n",
    "# No sistema acima strip tira os espaços, upper letra maiuscula e [0] pegará somente a 1° letra da palavra\n",
    "while sexo not in 'MmFf':\n",
    "    sexo = str(input('Dados inválidos. Por favor, informe seu sexo: ')).strip().upper()[0]\n",
    "print('Sexo {} registrado com sucesso'.format(sexo))"
   ]
  },
  {
   "cell_type": "markdown",
   "id": "4e603944",
   "metadata": {},
   "source": [
    "#### O programa do Gustavo usou somente 4 linhas... Ele usou somente uma regra no While, e utilizou um comando chamado NOT IN . Quer dizer, enquando as strings mencionadas não estiverem na variável sexo, o while continua."
   ]
  },
  {
   "cell_type": "code",
   "execution_count": null,
   "id": "2ba21548",
   "metadata": {},
   "outputs": [],
   "source": []
  }
 ],
 "metadata": {
  "kernelspec": {
   "display_name": "Python 3",
   "language": "python",
   "name": "python3"
  },
  "language_info": {
   "codemirror_mode": {
    "name": "ipython",
    "version": 3
   },
   "file_extension": ".py",
   "mimetype": "text/x-python",
   "name": "python",
   "nbconvert_exporter": "python",
   "pygments_lexer": "ipython3",
   "version": "3.8.8"
  }
 },
 "nbformat": 4,
 "nbformat_minor": 5
}
