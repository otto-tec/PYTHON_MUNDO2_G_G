{
 "cells": [
  {
   "cell_type": "markdown",
   "id": "d38d4315",
   "metadata": {},
   "source": [
    "## DESAFIO 67\n",
    "### Faça um programa que mostre a tabuada de vários números, um de cada vez, para cada valor diditado pelo usuário. O programa será interrompido quando o número solicitado for negativo."
   ]
  },
  {
   "cell_type": "code",
   "execution_count": 4,
   "id": "96ce6910",
   "metadata": {},
   "outputs": [
    {
     "name": "stdout",
     "output_type": "stream",
     "text": [
      "==================================================\n",
      "Quer ver a tabuada de qual valor? 6\n",
      "==================================================\n",
      "6 x  1 =  6\n",
      "6 x  2 = 12\n",
      "6 x  3 = 18\n",
      "6 x  4 = 24\n",
      "6 x  5 = 30\n",
      "6 x  6 = 36\n",
      "6 x  7 = 42\n",
      "6 x  8 = 48\n",
      "6 x  9 = 54\n",
      "6 x 10 = 60\n",
      "==================================================\n",
      "Quer ver a tabuada de qual valor? 8\n",
      "==================================================\n",
      "8 x  1 =  8\n",
      "8 x  2 = 16\n",
      "8 x  3 = 24\n",
      "8 x  4 = 32\n",
      "8 x  5 = 40\n",
      "8 x  6 = 48\n",
      "8 x  7 = 56\n",
      "8 x  8 = 64\n",
      "8 x  9 = 72\n",
      "8 x 10 = 80\n",
      "==================================================\n",
      "Quer ver a tabuada de qual valor? 0\n",
      "==================================================\n",
      "0 x  1 =  0\n",
      "0 x  2 =  0\n",
      "0 x  3 =  0\n",
      "0 x  4 =  0\n",
      "0 x  5 =  0\n",
      "0 x  6 =  0\n",
      "0 x  7 =  0\n",
      "0 x  8 =  0\n",
      "0 x  9 =  0\n",
      "0 x 10 =  0\n",
      "==================================================\n",
      "Quer ver a tabuada de qual valor? -1\n",
      "==================================================\n",
      "-1 x  1 = -1\n",
      "-1 x  2 = -2\n",
      "-1 x  3 = -3\n",
      "-1 x  4 = -4\n",
      "-1 x  5 = -5\n",
      "-1 x  6 = -6\n",
      "-1 x  7 = -7\n",
      "-1 x  8 = -8\n",
      "-1 x  9 = -9\n",
      "-1 x 10 = -10\n",
      "PROGRAMA TABUADA ENCERRADO. \n",
      "Volte sempre!\n"
     ]
    }
   ],
   "source": [
    "import time\n",
    "f = 0\n",
    "\n",
    "while f >= 0:\n",
    "    print('=' * 50)\n",
    "    time.sleep(0.5)\n",
    "    f = int(input('Quer ver a tabuada de qual valor? '))\n",
    "    print('=' * 50)\n",
    "\n",
    "    for i in range (1, 11):\n",
    "        print('{} x {:2} = {:2}'.format(f, i, f * i))\n",
    "        \n",
    "print('''PROGRAMA TABUADA ENCERRADO. \n",
    "Volte sempre!''')"
   ]
  },
  {
   "cell_type": "markdown",
   "id": "ae57ecba",
   "metadata": {},
   "source": [
    "## IMPORTANTE\n",
    "#### Verifiquei que há um fator no laço while, isso já aconteceu outras vezes. Verifique que ele multiplicou o -1. Isso quer dizer que ele usou o laço for dentro do while, mesmo declarando um valor de saida.  Para resolver esse problema eu coloquei um if. Segue abaixo a diferença."
   ]
  },
  {
   "cell_type": "code",
   "execution_count": 1,
   "id": "0655974a",
   "metadata": {},
   "outputs": [
    {
     "name": "stdout",
     "output_type": "stream",
     "text": [
      "==================================================\n",
      "Quer ver a tabuada de qual valor? 5\n",
      "==================================================\n",
      "5 x  1 =  5\n",
      "5 x  2 = 10\n",
      "5 x  3 = 15\n",
      "5 x  4 = 20\n",
      "5 x  5 = 25\n",
      "5 x  6 = 30\n",
      "5 x  7 = 35\n",
      "5 x  8 = 40\n",
      "5 x  9 = 45\n",
      "5 x 10 = 50\n",
      "==================================================\n",
      "Quer ver a tabuada de qual valor? 0\n",
      "==================================================\n",
      "PROGRAMA TABUADA ENCERRADO. \n",
      "Volte sempre!\n"
     ]
    }
   ],
   "source": [
    "import time\n",
    "f = 1\n",
    "while f > 0:\n",
    "    print('=' * 50)\n",
    "    time.sleep(0.5)\n",
    "    f = int(input('Quer ver a tabuada de qual valor? '))\n",
    "    print('=' * 50)\n",
    "    if f > 0:\n",
    "        for i in range (1, 11):\n",
    "            print('{} x {:2} = {:2}'.format(f, i, f * i))\n",
    "        \n",
    "print('''PROGRAMA TABUADA ENCERRADO. \n",
    "Volte sempre!''')"
   ]
  },
  {
   "cell_type": "code",
   "execution_count": 2,
   "id": "f8f23b86",
   "metadata": {},
   "outputs": [
    {
     "name": "stdout",
     "output_type": "stream",
     "text": [
      "Quer ver a tabuada de qual valor? 5\n",
      "------------------------------\n",
      "5 x 1 = 5\n",
      "5 x 2 = 10\n",
      "5 x 3 = 15\n",
      "5 x 4 = 20\n",
      "5 x 5 = 25\n",
      "5 x 6 = 30\n",
      "5 x 7 = 35\n",
      "5 x 8 = 40\n",
      "5 x 9 = 45\n",
      "5 x 10 = 50\n",
      "------------------------------\n",
      "Quer ver a tabuada de qual valor? 0\n",
      "------------------------------\n",
      "0 x 1 = 0\n",
      "0 x 2 = 0\n",
      "0 x 3 = 0\n",
      "0 x 4 = 0\n",
      "0 x 5 = 0\n",
      "0 x 6 = 0\n",
      "0 x 7 = 0\n",
      "0 x 8 = 0\n",
      "0 x 9 = 0\n",
      "0 x 10 = 0\n",
      "------------------------------\n",
      "Quer ver a tabuada de qual valor? -1\n",
      "------------------------------\n",
      "PROGRAMA TABUADA ENCERRADO. Volte sempre!\n"
     ]
    }
   ],
   "source": [
    "# Programação feita pelo Gustavo\n",
    "while True:\n",
    "    n = int(input('Quer ver a tabuada de qual valor? '))\n",
    "    print('-' * 30)\n",
    "    if n < 0:\n",
    "        break\n",
    "    for c in range(1, 11):\n",
    "        print(f'{n} x {c} = {n*c}')\n",
    "    print('-' * 30)\n",
    "print('PROGRAMA TABUADA ENCERRADO. Volte sempre!')"
   ]
  },
  {
   "cell_type": "markdown",
   "id": "4d091e24",
   "metadata": {},
   "source": [
    "### OBSERVAÇÕES\n",
    "#### Na programação do Guanabara e na minha tivemos o mesmo tamanho, desconsiderando a biblioteca que importei. A do Guanabara  teve o uso do While True, que faz com que o sistema fique rodando sem ter que declarar NADA fora do laço, isso é ótimo. Fora isso ele usou o f string para a impressão da tabuada, elegante."
   ]
  },
  {
   "cell_type": "code",
   "execution_count": null,
   "id": "6fa1a12f",
   "metadata": {},
   "outputs": [],
   "source": []
  }
 ],
 "metadata": {
  "kernelspec": {
   "display_name": "Python 3",
   "language": "python",
   "name": "python3"
  },
  "language_info": {
   "codemirror_mode": {
    "name": "ipython",
    "version": 3
   },
   "file_extension": ".py",
   "mimetype": "text/x-python",
   "name": "python",
   "nbconvert_exporter": "python",
   "pygments_lexer": "ipython3",
   "version": "3.8.8"
  }
 },
 "nbformat": 4,
 "nbformat_minor": 5
}
