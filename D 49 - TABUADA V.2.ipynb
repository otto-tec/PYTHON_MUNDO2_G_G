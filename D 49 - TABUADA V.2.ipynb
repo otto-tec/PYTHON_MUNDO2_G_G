{
 "cells": [
  {
   "cell_type": "markdown",
   "id": "20c304b5",
   "metadata": {},
   "source": [
    "## DESAFIO 49\n",
    "### Refaça o desafio 009, mostrando tabuada de um número que o usuário escolher, só ue agora utilizando um laço for."
   ]
  },
  {
   "cell_type": "code",
   "execution_count": 9,
   "id": "69e483d7",
   "metadata": {},
   "outputs": [
    {
     "name": "stdout",
     "output_type": "stream",
     "text": [
      "Insira um número que queira a tabuada: 5\n",
      "5 x  1 = 5\n",
      "5 x  2 = 10\n",
      "5 x  3 = 15\n",
      "5 x  4 = 20\n",
      "5 x  5 = 25\n",
      "5 x  6 = 30\n",
      "5 x  7 = 35\n",
      "5 x  8 = 40\n",
      "5 x  9 = 45\n",
      "5 x 10 = 50\n"
     ]
    }
   ],
   "source": [
    "# MEU PROGRAMA\n",
    "n1 = int(input('Insira um número que queira a tabuada: '))\n",
    "\n",
    "for i in range(1, 11):\n",
    "    print('{} x {:2} = {}'.format(n1, i, n1 * i))"
   ]
  },
  {
   "cell_type": "code",
   "execution_count": null,
   "id": "c52d2e00",
   "metadata": {},
   "outputs": [],
   "source": []
  }
 ],
 "metadata": {
  "kernelspec": {
   "display_name": "Python 3",
   "language": "python",
   "name": "python3"
  },
  "language_info": {
   "codemirror_mode": {
    "name": "ipython",
    "version": 3
   },
   "file_extension": ".py",
   "mimetype": "text/x-python",
   "name": "python",
   "nbconvert_exporter": "python",
   "pygments_lexer": "ipython3",
   "version": "3.8.8"
  }
 },
 "nbformat": 4,
 "nbformat_minor": 5
}
