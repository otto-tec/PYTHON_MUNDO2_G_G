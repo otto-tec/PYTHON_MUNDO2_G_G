{
 "cells": [
  {
   "cell_type": "markdown",
   "id": "b52f47e5",
   "metadata": {},
   "source": [
    "## DESAFIO 44\n",
    "### Elabore um programa que calcule o valor a se pago por um produto, considerando o seu peço normal e candição de pagamento:\n",
    "- À vista dineiro/cheque: 10% de desconto\n",
    "- À vista no cartão:       5% de desconto\n",
    "- Em até 2x no cartáo:     Preço normal\n",
    "- 3x ou mais no cartão:    20% de juros"
   ]
  },
  {
   "cell_type": "code",
   "execution_count": 9,
   "id": "a3f18da5",
   "metadata": {},
   "outputs": [
    {
     "name": "stdout",
     "output_type": "stream",
     "text": [
      "Insira o valor do produto:R$ 100\n",
      "Escolha uma das opções:\n",
      "[1] A vista no dinheiro/cheque;\n",
      "[2] A vista no cartão;\n",
      "[3] Em até 2x no cartão;\n",
      "[4] 3x ou mais no cartão;\n",
      "-*-*-*-*-*-*-*-*-*-*-*-*-*-*-*-*-*-*-*-*-*-*-*-*-*-*-*-*-*-*\n",
      "Escolha uma opção: 4\n",
      "Para o produto de valor 100.00 sendo pago pela opção 4\n",
      "O valor final será de R$120.00\n"
     ]
    }
   ],
   "source": [
    "prod = float(input('Insira o valor do produto:R$ '))\n",
    "print('''Escolha uma das opções:\n",
    "[1] A vista no dinheiro/cheque;\n",
    "[2] A vista no cartão;\n",
    "[3] Em até 2x no cartão;\n",
    "[4] 3x ou mais no cartão;''')\n",
    "print('-*'* 30)\n",
    "indice = int(input('Escolha uma opção: '))\n",
    "\n",
    "if indice == 1:\n",
    "    result = prod - (prod * 0.1)\n",
    "elif indice == 2:\n",
    "    result = prod - (prod * 0.05)\n",
    "elif indice == 3:\n",
    "    result = prod\n",
    "elif indice == 4:\n",
    "    result = prod + (prod * 0.2)\n",
    "\n",
    "\n",
    "print('Para o produto de valor {:.2f} sendo pago pela opção {}\\nO valor final será de R${:.2f}'.format(prod, indice, result))\n",
    "    "
   ]
  },
  {
   "cell_type": "code",
   "execution_count": null,
   "id": "609866c9",
   "metadata": {},
   "outputs": [],
   "source": []
  },
  {
   "cell_type": "code",
   "execution_count": null,
   "id": "d78340b8",
   "metadata": {},
   "outputs": [],
   "source": []
  }
 ],
 "metadata": {
  "kernelspec": {
   "display_name": "Python 3",
   "language": "python",
   "name": "python3"
  },
  "language_info": {
   "codemirror_mode": {
    "name": "ipython",
    "version": 3
   },
   "file_extension": ".py",
   "mimetype": "text/x-python",
   "name": "python",
   "nbconvert_exporter": "python",
   "pygments_lexer": "ipython3",
   "version": "3.8.8"
  }
 },
 "nbformat": 4,
 "nbformat_minor": 5
}
