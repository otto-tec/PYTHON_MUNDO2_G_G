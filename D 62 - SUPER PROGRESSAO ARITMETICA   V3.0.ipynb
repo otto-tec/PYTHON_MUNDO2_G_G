{
 "cells": [
  {
   "cell_type": "markdown",
   "id": "8568707c",
   "metadata": {},
   "source": [
    "## DESAFIO 62\n",
    "### Melhore o DESAFIO 61, perguntando para o usuário se ele quer mostrar mais alguns termos. O programa encerra quando ele disser que quer mostrar 0 termos."
   ]
  },
  {
   "cell_type": "code",
   "execution_count": null,
   "id": "33ce57a0",
   "metadata": {},
   "outputs": [],
   "source": [
    "print('   GERADOR DE PA')\n",
    "print('='* 20)\n",
    "\n",
    "p_ter = int(input('Primeiro termo: '))\n",
    "r_pa = int(input('Razão da PA: '))\n",
    "c = 10\n",
    "s = 0\n",
    "amais = 1\n",
    "while c > 0:\n",
    "    s += 1\n",
    "    valor = p_ter\n",
    "    print(valor, end='')\n",
    "    print(' => ' if c > 1 else ' => PAUSA ', end = '')\n",
    "    p_ter += r_pa\n",
    "    c -= 1\n",
    "    if c == 0:\n",
    "        amais = int(input('Quantos termos você quer mostrar a mais? '))\n",
    "        c += amais\n",
    "    elif amais == 0:\n",
    "        print('Progressão finalizada com {} termos mostrados'.format(s))\n",
    "\n"
   ]
  }
 ],
 "metadata": {
  "kernelspec": {
   "display_name": "Python 3",
   "language": "python",
   "name": "python3"
  },
  "language_info": {
   "codemirror_mode": {
    "name": "ipython",
    "version": 3
   },
   "file_extension": ".py",
   "mimetype": "text/x-python",
   "name": "python",
   "nbconvert_exporter": "python",
   "pygments_lexer": "ipython3",
   "version": "3.8.8"
  }
 },
 "nbformat": 4,
 "nbformat_minor": 5
}
