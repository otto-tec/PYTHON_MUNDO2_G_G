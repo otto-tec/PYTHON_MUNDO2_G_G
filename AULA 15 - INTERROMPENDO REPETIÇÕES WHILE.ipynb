{
 "cells": [
  {
   "cell_type": "code",
   "execution_count": null,
   "id": "6894fafa",
   "metadata": {},
   "outputs": [],
   "source": []
  },
  {
   "cell_type": "code",
   "execution_count": 2,
   "id": "a081f512",
   "metadata": {},
   "outputs": [
    {
     "name": "stdout",
     "output_type": "stream",
     "text": [
      "Digite um número: 4\n",
      "Digite um número: 5\n",
      "Digite um número: 6\n",
      "Digite um número: 999\n",
      "A soma vale 15\n"
     ]
    }
   ],
   "source": [
    "n = s = 0\n",
    "while True:\n",
    "    n = int(input('Digite um número: '))\n",
    "    if n == 999:\n",
    "        break\n",
    "    s += n\n",
    "print(f'A soma vale {s}')"
   ]
  },
  {
   "cell_type": "markdown",
   "id": "317382b1",
   "metadata": {},
   "source": [
    "#### Nessa programação acima o break fica antes da variável agregadora (s). Isso permite que somente os números sejam somadas, desconsiderando o 999."
   ]
  },
  {
   "cell_type": "code",
   "execution_count": null,
   "id": "5a75c8d9",
   "metadata": {},
   "outputs": [],
   "source": []
  }
 ],
 "metadata": {
  "kernelspec": {
   "display_name": "Python 3",
   "language": "python",
   "name": "python3"
  },
  "language_info": {
   "codemirror_mode": {
    "name": "ipython",
    "version": 3
   },
   "file_extension": ".py",
   "mimetype": "text/x-python",
   "name": "python",
   "nbconvert_exporter": "python",
   "pygments_lexer": "ipython3",
   "version": "3.8.8"
  }
 },
 "nbformat": 4,
 "nbformat_minor": 5
}
