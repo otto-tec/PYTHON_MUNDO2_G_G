{
 "cells": [
  {
   "cell_type": "markdown",
   "id": "68a4f11a",
   "metadata": {},
   "source": [
    "## DESAFIO 48\n",
    "### Faça um programa que calcule a soma entre todos os números impares que são múltiplos de três e que se encontram no intervalo de 1 até 500."
   ]
  },
  {
   "cell_type": "code",
   "execution_count": 18,
   "id": "e85db2d1",
   "metadata": {},
   "outputs": [
    {
     "name": "stdout",
     "output_type": "stream",
     "text": [
      "A soma de todos os 83 valores solicitados é: 20667\n"
     ]
    }
   ],
   "source": [
    "# Programa feito pelo Gustavo, tive dificuldade.\n",
    "soma = 0\n",
    "cont = 0\n",
    "for n in range(1, 501, 2):\n",
    "    if n % 3 == 0:\n",
    "        cont = cont + 1 #Pode-se fazer tambem cont += 1\n",
    "        soma = soma + n #Pode-se fazer tambem soma += n\n",
    "\n",
    "print('A soma de todos os {} valores solicitados é: {}'.format(cont, soma))\n",
    "  "
   ]
  },
  {
   "cell_type": "code",
   "execution_count": null,
   "id": "78850c0e",
   "metadata": {},
   "outputs": [],
   "source": []
  }
 ],
 "metadata": {
  "kernelspec": {
   "display_name": "Python 3",
   "language": "python",
   "name": "python3"
  },
  "language_info": {
   "codemirror_mode": {
    "name": "ipython",
    "version": 3
   },
   "file_extension": ".py",
   "mimetype": "text/x-python",
   "name": "python",
   "nbconvert_exporter": "python",
   "pygments_lexer": "ipython3",
   "version": "3.8.8"
  }
 },
 "nbformat": 4,
 "nbformat_minor": 5
}
