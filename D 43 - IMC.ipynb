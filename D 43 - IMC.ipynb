{
 "cells": [
  {
   "cell_type": "markdown",
   "id": "8068c450",
   "metadata": {},
   "source": [
    "## DESAFIO 43\n",
    "### Desenvolver uma lógica que leia o peso e a altura de uma pessoa, calcule seu IMC e mostre seu status, de acordo com a tabela abaixo:\n",
    "\n",
    "- Abaixo de 18.5: Abaixo do Peso\n",
    "- Entre 18.5 e 25: Peso Ideal\n",
    "- 25 até 30: Sobrepeso\n",
    "- 30 até 40: Obesidade\n",
    "- Acioma de 40: Obesidade mórbida"
   ]
  },
  {
   "cell_type": "code",
   "execution_count": 7,
   "id": "d44385ec",
   "metadata": {},
   "outputs": [
    {
     "name": "stdout",
     "output_type": "stream",
     "text": [
      "Insira seu peso em Kg: 40\n",
      "Insira a sua altura em Mts: 1.9\n",
      "-*-*-*-*-*-*-*-*-*-*-*-*-*-*-*-*-*-*-*-*-*-*-*-*-*\n",
      "Para uma pessoa com 1.9m de altura e 40.0Kg.\n",
      "Seu indice é 11.08 considerado como ABAIXO DO PESO\n"
     ]
    }
   ],
   "source": [
    "weight = float(input('Insira seu peso em Kg: '))\n",
    "height = float(input('Insira a sua altura em Mts: '))\n",
    "print('-*' * 25)\n",
    "\n",
    "imc = weight / (height**2)\n",
    "\n",
    "if imc < 18.5:\n",
    "    indice = 'ABAIXO DO PESO'\n",
    "elif imc > 18.5 and  imc < 25:\n",
    "    indice = 'PESO IDEAL'\n",
    "elif imc > 25 and imc < 30:\n",
    "    indice = 'SOBREPESO'\n",
    "elif imc > 30 and imc < 40:\n",
    "    indice = 'OBESIDADE'\n",
    "elif imc > 40:\n",
    "    indice = 'OBESIDADE MÓRBIDA'\n",
    "else:\n",
    "    indice = 'VALOR INVÁLIDO'\n",
    "print('Para uma pessoa com {}m de altura e {}Kg.\\nSeu indice é {:.2f} considerado como {}'.format(height, weight, imc, indice))\n",
    "    "
   ]
  },
  {
   "cell_type": "code",
   "execution_count": null,
   "id": "14013e15",
   "metadata": {},
   "outputs": [],
   "source": []
  },
  {
   "cell_type": "code",
   "execution_count": null,
   "id": "ca097cd5",
   "metadata": {},
   "outputs": [],
   "source": []
  }
 ],
 "metadata": {
  "kernelspec": {
   "display_name": "Python 3",
   "language": "python",
   "name": "python3"
  },
  "language_info": {
   "codemirror_mode": {
    "name": "ipython",
    "version": 3
   },
   "file_extension": ".py",
   "mimetype": "text/x-python",
   "name": "python",
   "nbconvert_exporter": "python",
   "pygments_lexer": "ipython3",
   "version": "3.8.8"
  }
 },
 "nbformat": 4,
 "nbformat_minor": 5
}
