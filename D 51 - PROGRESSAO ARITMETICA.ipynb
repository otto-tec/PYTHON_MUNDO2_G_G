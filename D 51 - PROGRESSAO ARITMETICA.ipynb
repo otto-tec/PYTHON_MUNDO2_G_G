{
 "cells": [
  {
   "cell_type": "markdown",
   "id": "bca89cd5",
   "metadata": {},
   "source": [
    "## DESAFIO 51\n",
    "###   Desenvolva um programa que leia o primeiro termo e a razão de uma PA. No final, mostre os 10 primeiros termos dessa progressão."
   ]
  },
  {
   "cell_type": "code",
   "execution_count": 20,
   "id": "914f8d26",
   "metadata": {},
   "outputs": [
    {
     "name": "stdout",
     "output_type": "stream",
     "text": [
      "========================================\n",
      "          10 TERMOS DE UMA PA \n",
      "========================================\n",
      "Primeiro termo: 25\n",
      "Razão: 5\n",
      "25 => 30 => 35 => 40 => 45 => 50 => 55 => 60 => 65 => 70 => ACABOU\n"
     ]
    }
   ],
   "source": [
    "# MINHA PROGRAMAÇÃO com ajuda \n",
    "\n",
    "print('=' * 40)\n",
    "print('          10 TERMOS DE UMA PA ')\n",
    "print('=' * 40)\n",
    "\n",
    "t = int(input('Primeiro termo: '))\n",
    "r = int(input('Razão: '))\n",
    "s = 0\n",
    "d = t + (10-1) * r # essa parte copiei do Guanabara\n",
    "\n",
    "for i in range(t, d + r, r):\n",
    "    print(i, end = ' => ')\n",
    "print('ACABOU')\n",
    "    "
   ]
  },
  {
   "cell_type": "code",
   "execution_count": null,
   "id": "c79c8f48",
   "metadata": {},
   "outputs": [],
   "source": []
  }
 ],
 "metadata": {
  "kernelspec": {
   "display_name": "Python 3",
   "language": "python",
   "name": "python3"
  },
  "language_info": {
   "codemirror_mode": {
    "name": "ipython",
    "version": 3
   },
   "file_extension": ".py",
   "mimetype": "text/x-python",
   "name": "python",
   "nbconvert_exporter": "python",
   "pygments_lexer": "ipython3",
   "version": "3.8.8"
  }
 },
 "nbformat": 4,
 "nbformat_minor": 5
}
