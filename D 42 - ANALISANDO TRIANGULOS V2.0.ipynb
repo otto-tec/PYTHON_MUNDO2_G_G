{
 "cells": [
  {
   "cell_type": "markdown",
   "id": "a28f43d6",
   "metadata": {},
   "source": [
    "## DESAFIO 42\n",
    "### Refaça o desafio 35 dos triângulos, acrescentando o recurso de mostrar que tipo de triângulo será formado:\n",
    "- EQUILÁTERO: todos os lados iguais\n",
    "- ISÓSCELES:  dois lados iguais\n",
    "- ESCALENO:  todos os lados diferentes"
   ]
  },
  {
   "cell_type": "code",
   "execution_count": 12,
   "id": "807d2ec8",
   "metadata": {},
   "outputs": [
    {
     "name": "stdout",
     "output_type": "stream",
     "text": [
      "Insira o valor da 1° reta: 4\n",
      "Insira o valor da 2° reta: 5\n",
      "Insira o valor da 3° reta: 6\n",
      "-*-*-*-*-*-*-*-*-*-*-*-*-*-*-*-*-*-*-*-*-*-*-*-*-*-*-*-*-*-*\n",
      "As retas descritas acima FORMAM um triângulo.\n",
      ">>>>O tipo desse triângulo é: ESCALENO<<<<\n"
     ]
    }
   ],
   "source": [
    "# 1° programação mais elaborada que fiz sem auxílio!!!\n",
    "\n",
    "r1 = float(input('Insira o valor da 1° reta: '))\n",
    "r2 = float(input('Insira o valor da 2° reta: '))\n",
    "r3 = float(input('Insira o valor da 3° reta: '))\n",
    "\n",
    "#IDENTIFICANDO SE É UM TRIANGULo\n",
    "if (r1 + r2 > r3) and (r1 + r3 > r2) and (r3 + r2 > r1):\n",
    "    r = 1\n",
    "    tri = 'FORMAM'\n",
    "else:\n",
    "    r = 0\n",
    "    tri = 'NÃO FORMAM'\n",
    "    \n",
    "#IDENTIFICANDO O TIPO DE TRIÂNGULO\n",
    "print('-*' * 30)\n",
    "\n",
    "if r == 1 and r1 == r2 and r2 == r3:\n",
    "    type_ = 'EQUILÁTERO'\n",
    "elif r == 1 and ((r1 == r2) or (r2 == r3) or (r1 == r3)):\n",
    "    type_ = 'ISÓSCELES'\n",
    "elif r == 1 and ((r1 != r2) and (r1 != r3) and (r2 != r3)): \n",
    "    type_ = 'ESCALENO'\n",
    "else:\n",
    "    type_ = 'NULO'\n",
    "\n",
    "print('''As retas descritas acima {} um triângulo.\n",
    ">>>>O tipo desse triângulo é: {}<<<<'''.format(tri, type_))   "
   ]
  },
  {
   "cell_type": "code",
   "execution_count": null,
   "id": "6886ee45",
   "metadata": {},
   "outputs": [],
   "source": []
  },
  {
   "cell_type": "code",
   "execution_count": null,
   "id": "5b4ae8db",
   "metadata": {},
   "outputs": [],
   "source": []
  }
 ],
 "metadata": {
  "kernelspec": {
   "display_name": "Python 3",
   "language": "python",
   "name": "python3"
  },
  "language_info": {
   "codemirror_mode": {
    "name": "ipython",
    "version": 3
   },
   "file_extension": ".py",
   "mimetype": "text/x-python",
   "name": "python",
   "nbconvert_exporter": "python",
   "pygments_lexer": "ipython3",
   "version": "3.8.8"
  }
 },
 "nbformat": 4,
 "nbformat_minor": 5
}
