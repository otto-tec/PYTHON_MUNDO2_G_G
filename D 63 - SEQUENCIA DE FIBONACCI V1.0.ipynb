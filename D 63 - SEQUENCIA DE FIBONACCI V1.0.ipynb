{
 "cells": [
  {
   "cell_type": "markdown",
   "id": "d7de4c1e",
   "metadata": {},
   "source": [
    "## DESAFIO 63\n",
    "### Escreva um programa que leia um número n inteiro qualquer e mostre na tela os n primeiros elementos de uma Sequência de Fibonacci. \n",
    "Ex.: 0 > 1 > 1 > 2 > 3 > 5 > 8  "
   ]
  },
  {
   "cell_type": "code",
   "execution_count": 19,
   "id": "5b7ea335",
   "metadata": {},
   "outputs": [
    {
     "name": "stdout",
     "output_type": "stream",
     "text": [
      "==============================\n",
      "   SEQUENCIA DE FIBONACCI\n",
      "==============================\n",
      "Quantos termos vc quer mostrar? 6\n",
      "^^^^^^^^^^^^^^^^^^^^^^^^^^^^^^^^^^^\n",
      "0 -> 1 -> 1 -> 2 -> 3 -> 5 -> FIM\n"
     ]
    }
   ],
   "source": [
    "print('=' * 30)\n",
    "print('   SEQUENCIA DE FIBONACCI')\n",
    "print('=' * 30)\n",
    "\n",
    "t = int(input('Quantos termos vc quer mostrar? '))\n",
    "print('^' * 35)\n",
    "f1 = 0\n",
    "f2 = 1\n",
    "print('{} -> {}'.format(f1, f2), end='') # MACETE, DESSA FORMA ELE JÁ IMPRIME OS 2 PRIMEIROS\n",
    "cont = 3\n",
    "while cont <= t:\n",
    "    f3 = f1 + f2\n",
    "    print(' -> {}'.format(f3), end='') # AQUI OS NÚMEROS APARECEM TRABALHADOS.\n",
    "    f1 = f2\n",
    "    f2 = f3\n",
    "    cont += 1\n",
    "print(' -> FIM')"
   ]
  },
  {
   "cell_type": "code",
   "execution_count": null,
   "id": "26d2a0b1",
   "metadata": {},
   "outputs": [],
   "source": []
  }
 ],
 "metadata": {
  "kernelspec": {
   "display_name": "Python 3",
   "language": "python",
   "name": "python3"
  },
  "language_info": {
   "codemirror_mode": {
    "name": "ipython",
    "version": 3
   },
   "file_extension": ".py",
   "mimetype": "text/x-python",
   "name": "python",
   "nbconvert_exporter": "python",
   "pygments_lexer": "ipython3",
   "version": "3.8.8"
  }
 },
 "nbformat": 4,
 "nbformat_minor": 5
}
