{
 "cells": [
  {
   "cell_type": "markdown",
   "id": "7e833f34",
   "metadata": {},
   "source": [
    "## DESAFIO 64\n",
    "### Crie um programa que leia vários números inteiros pelo teclado. O programa só vai parar quando o usuário digitar o valor 999, que é a condição de parada. No final, mostre quantos números foram digitados e qual foi a soma entre eles (desconsiderando o flag)."
   ]
  },
  {
   "cell_type": "code",
   "execution_count": 5,
   "id": "72c09fbf",
   "metadata": {},
   "outputs": [
    {
     "name": "stdout",
     "output_type": "stream",
     "text": [
      "Digite um número [999 para parar]: 4\n",
      "Digite um número [999 para parar]: 3\n",
      "Digite um número [999 para parar]: 999\n",
      "Você digitou 2 números e a soma entre eles foi 7.0.\n"
     ]
    }
   ],
   "source": [
    "# MINHA PROGRAMAÇÃO. Somente a 1° linha que irei copiar, ficou 1 em vez de 3\n",
    "n1 = s = c = 0\n",
    "while n1 != 999:\n",
    "    n1 = float(input('Digite um número [999 para parar]: '))\n",
    "    if n1 != 999:\n",
    "        s += n1\n",
    "        c += 1 \n",
    "\n",
    "print('Você digitou {} números e a soma entre eles foi {}.'.format(c, s))"
   ]
  },
  {
   "cell_type": "code",
   "execution_count": 4,
   "id": "a9a668a4",
   "metadata": {},
   "outputs": [
    {
     "name": "stdout",
     "output_type": "stream",
     "text": [
      "Digite um número [999 para parar]4\n",
      "Digite um número [999 para parar]: 5\n",
      "Digite um número [999 para parar]: 999\n",
      "Você digitou 2 números e a soma entre eles foi 9.\n"
     ]
    }
   ],
   "source": [
    "# PROGRAMAÇÃO FEITA PELO GUSTAVO\n",
    "núm = cont = soma = 0\n",
    "núm = int(input('Digite um número [999 para parar]'))\n",
    "while núm != 999:\n",
    "    soma += núm\n",
    "    cont += 1\n",
    "    núm = int(input('Digite um número [999 para parar]: '))\n",
    "print('Você digitou {} números e a soma entre eles foi {}.'.format(cont, soma))"
   ]
  },
  {
   "cell_type": "code",
   "execution_count": null,
   "id": "4f3c2d88",
   "metadata": {},
   "outputs": [],
   "source": []
  }
 ],
 "metadata": {
  "kernelspec": {
   "display_name": "Python 3",
   "language": "python",
   "name": "python3"
  },
  "language_info": {
   "codemirror_mode": {
    "name": "ipython",
    "version": 3
   },
   "file_extension": ".py",
   "mimetype": "text/x-python",
   "name": "python",
   "nbconvert_exporter": "python",
   "pygments_lexer": "ipython3",
   "version": "3.8.8"
  }
 },
 "nbformat": 4,
 "nbformat_minor": 5
}
