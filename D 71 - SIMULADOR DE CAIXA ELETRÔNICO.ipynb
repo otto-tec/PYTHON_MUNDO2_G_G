{
 "cells": [
  {
   "cell_type": "markdown",
   "id": "a173f5da",
   "metadata": {},
   "source": [
    "## DESAFIO 71\n",
    "### Crie um programa que simule o funcionamento de um caixa eletrônico. No início, pergunte ao usuário qual será o valor a ser sacado (número inteiro) e o programa vai informar quantas cédulas de cada valor serão entregues \n",
    "#### Obs.: Considere que o caixa possui cédulas de RS 50, 20, 10 e 1."
   ]
  },
  {
   "cell_type": "code",
   "execution_count": null,
   "id": "285d9280",
   "metadata": {},
   "outputs": [],
   "source": [
    "# PROGRAMA QUE EU FIZ. SEM CONSULTA ALGUMA, NEM NA INTERNET!!!!\n",
    "\n",
    "import time\n",
    "print('       ', '=' * 30)\n",
    "print('                  BANCO LURI')\n",
    "print('       ', '=' * 30)\n",
    "time.sleep(0.5)\n",
    "res_50 = res_20 = res_10 = res_1 = q_50 = q_20 = q_10 = q_1 = 0\n",
    "\n",
    "while True:\n",
    "    val = int(input('Que valor você quer sacar? R$ '))\n",
    "    \n",
    "    if val >= 50 or val != 0:\n",
    "        q_50 = val // 50\n",
    "        res_50 = val % 50 \n",
    "    if res_50 >= 20 or val != 0:\n",
    "        q_20 = res_50 // 20\n",
    "        res_20 = res_50 % 20\n",
    "    if res_20 >= 10 or res_50 != 0:\n",
    "        q_10 = res_20 // 10\n",
    "        res_10 = res_20 % 10\n",
    "    if res_10 <= 9 or res_20 != 0:\n",
    "        q_1 = res_10 // 1\n",
    "        break\n",
    "    \n",
    "print('*' * 50)       \n",
    "print(f'Total de {q_50} cédulas de R$ 50,00')\n",
    "print('-' * 50)\n",
    "print(f'Total de {q_20} cédulas de R$ 20,00')\n",
    "print('-' * 50)\n",
    "print(f'Total de {q_10} cédulas de R$ 10,00')\n",
    "print('-' * 50)\n",
    "print(f'Total de {q_1} cédulas de R$ 1,00')\n",
    "print('-' * 50)\n",
    "\n"
   ]
  },
  {
   "cell_type": "code",
   "execution_count": 1,
   "id": "6df9b139",
   "metadata": {},
   "outputs": [
    {
     "name": "stdout",
     "output_type": "stream",
     "text": [
      "==============================\n",
      "          BANCO CEV           \n",
      "==============================\n",
      "Que valor você quer sacar? R$ 186\n",
      "Total de 3 cédulas de R$50\n",
      "Total de 1 cédulas de R$20\n",
      "Total de 1 cédulas de R$10\n",
      "Total de 6 cédulas de R$1\n",
      "==============================\n",
      "Volte sempre ao Banco CEV! TENHA UM BOM DIA!\n"
     ]
    }
   ],
   "source": [
    "# Programa feito pelo Gustavo\n",
    "print('=' * 30)\n",
    "print('{:^30}'.format('BANCO CEV'))\n",
    "print('=' * 30)\n",
    "valor = int(input('Que valor você quer sacar? R$ '))\n",
    "total = valor\n",
    "céd = 50\n",
    "totcéd = 0\n",
    "while True:\n",
    "    if total >= céd:\n",
    "        total -= céd\n",
    "        totcéd += 1\n",
    "    else:\n",
    "        if totcéd > 0:\n",
    "            print(f'Total de {totcéd} cédulas de R${céd}')\n",
    "        if céd == 50:\n",
    "            céd = 20\n",
    "        elif céd == 20:\n",
    "            céd = 10\n",
    "        elif céd ==10:\n",
    "            céd = 1\n",
    "        totcéd = 0\n",
    "        if total == 0:\n",
    "            break\n",
    "print('=' * 30)\n",
    "print('Volte sempre ao Banco CEV! TENHA UM BOM DIA!')"
   ]
  },
  {
   "cell_type": "markdown",
   "id": "341580c9",
   "metadata": {},
   "source": [
    "### OBSERVAÇÕES\n",
    "#### No programa que o Gustavo fez tem algumas diferenças interessantes. Uma é o fato de ter usado uma menor quantidade de variáveis. A outra questão é o fato dele ter colocado o sistema para mostrar somente as notas que forem usadas, as que não são utilizadas não aparecem."
   ]
  },
  {
   "cell_type": "code",
   "execution_count": null,
   "id": "50c552ad",
   "metadata": {},
   "outputs": [],
   "source": []
  }
 ],
 "metadata": {
  "kernelspec": {
   "display_name": "Python 3",
   "language": "python",
   "name": "python3"
  },
  "language_info": {
   "codemirror_mode": {
    "name": "ipython",
    "version": 3
   },
   "file_extension": ".py",
   "mimetype": "text/x-python",
   "name": "python",
   "nbconvert_exporter": "python",
   "pygments_lexer": "ipython3",
   "version": "3.8.8"
  }
 },
 "nbformat": 4,
 "nbformat_minor": 5
}
