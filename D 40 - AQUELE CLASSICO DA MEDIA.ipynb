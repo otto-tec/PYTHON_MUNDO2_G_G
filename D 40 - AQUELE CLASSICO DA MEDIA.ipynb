{
 "cells": [
  {
   "cell_type": "markdown",
   "id": "509b9671",
   "metadata": {},
   "source": [
    "## DESAFIO 40\n",
    "### Crie um programa que leia duas notas de um aluno e calcule sua média, mostrando uma mensagem no final, de acordo com a média atingida:\n",
    "- Média abaxio de 5.0: REPROVADO\n",
    "- Média entre 5.0 e 6.9: RECUPERAÇÃO\n",
    "- Média 7.0 ou superior: APROVADO"
   ]
  },
  {
   "cell_type": "code",
   "execution_count": 9,
   "id": "ef54f344",
   "metadata": {},
   "outputs": [
    {
     "name": "stdout",
     "output_type": "stream",
     "text": [
      "Insira a 1° nota: 6\n",
      "Insira a 2° nota: 8\n",
      "-*-*-*-*-*-*-*-*-*-*-*-*-*-*-*-*-*-*-*-*-*-*-*-*-*-*-*-*-*-*\n",
      "A média do aluno é 7.0\n",
      "Status do aluno: APROVADO!\n"
     ]
    }
   ],
   "source": [
    "# Minha programação\n",
    "n1 = float(input('Insira a 1° nota: '))\n",
    "n2 = float(input('Insira a 2° nota: '))\n",
    "print('-*' * 30)\n",
    "m = (n1 + n2) / 2\n",
    "\n",
    "if m <= 4.9:\n",
    "    result = 'REPROVADO'\n",
    "elif (m > 4.9) and (m <= 6.9):\n",
    "    result = 'RECUPERAÇÃO'\n",
    "else:\n",
    "    result = 'APROVADO'\n",
    "print('A média do aluno é {}\\nStatus do aluno: {}!'.format(m, result))"
   ]
  },
  {
   "cell_type": "code",
   "execution_count": null,
   "id": "ce68977d",
   "metadata": {},
   "outputs": [],
   "source": []
  }
 ],
 "metadata": {
  "kernelspec": {
   "display_name": "Python 3",
   "language": "python",
   "name": "python3"
  },
  "language_info": {
   "codemirror_mode": {
    "name": "ipython",
    "version": 3
   },
   "file_extension": ".py",
   "mimetype": "text/x-python",
   "name": "python",
   "nbconvert_exporter": "python",
   "pygments_lexer": "ipython3",
   "version": "3.8.8"
  }
 },
 "nbformat": 4,
 "nbformat_minor": 5
}
