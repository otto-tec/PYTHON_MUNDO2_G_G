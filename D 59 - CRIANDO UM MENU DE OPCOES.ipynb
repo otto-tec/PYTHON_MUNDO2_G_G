{
 "cells": [
  {
   "cell_type": "markdown",
   "id": "97defa4e",
   "metadata": {},
   "source": [
    "## DESAFIO 59\n",
    "### Crie um programa que leia dois valores e mostre um menu como o ao lado na tela: \n",
    "- [1] somar\n",
    "- [2] multiplicar\n",
    "- [3] maior\n",
    "- [4] novos números\n",
    "- [5] sair do programa\n",
    "\n",
    "### Seu programa deverá realizar a operação solicitada em cada caso."
   ]
  },
  {
   "cell_type": "code",
   "execution_count": null,
   "id": "c4f31341",
   "metadata": {
    "scrolled": true
   },
   "outputs": [
    {
     "name": "stdout",
     "output_type": "stream",
     "text": [
      "Primeiro valor: 7\n",
      "Primeiro valor: 2.9\n",
      "==============================\n",
      "     OPÇÕES DE OPERAÇÕES\n",
      "==============================\n",
      "\n",
      "    [1] somar\n",
      "    [2] multiplicar\n",
      "    [3] maior\n",
      "    [4] novos números\n",
      "    [5] sair do programa\n",
      ">>>>Qual é a sua opção? 3\n",
      "O maior número entre 7.0 e 2.9 é: 7.0\n",
      "==============================\n",
      "     OPÇÕES DE OPERAÇÕES\n",
      "==============================\n",
      "\n",
      "    [1] somar\n",
      "    [2] multiplicar\n",
      "    [3] maior\n",
      "    [4] novos números\n",
      "    [5] sair do programa\n"
     ]
    }
   ],
   "source": [
    "\n",
    "ent = 0\n",
    "soma = 0\n",
    "mult = 0\n",
    "maior = 0\n",
    "n1 = float(input('Primeiro valor: '))\n",
    "n2 = float(input('Primeiro valor: '))\n",
    "while ent != 5:\n",
    "\n",
    "    print('=' * 30)\n",
    "    print('     OPÇÕES DE OPERAÇÕES')\n",
    "    print('=' * 30)\n",
    "    print('''\n",
    "    [1] somar\n",
    "    [2] multiplicar\n",
    "    [3] maior\n",
    "    [4] novos números\n",
    "    [5] sair do programa''')\n",
    "    ent = int(input('>>>>Qual é a sua opção? '))\n",
    "    if ent == 1:\n",
    "        print('A soma entre o número {} e o número {} é: {}'.format(n1, n2, n1 + n2))\n",
    "    elif ent == 2:\n",
    "        print('A multiplicação entre o núm. {} e o núm. {} é: {}'.format(n1, n2, n1 * n2))\n",
    "    elif ent == 3:\n",
    "        print('O maior número entre {} e {} é: {}'.format(n1, n2, max([n1, n2])))\n",
    "    elif ent == 4:\n",
    "        n1 = float(input('Primeiro valor: '))\n",
    "        n2 = float(input('Primeiro valor: '))\n",
    "    elif ent == 5:\n",
    "        print('>>>>>>> FIM <<<<<<')\n",
    "    else:\n",
    "        print('DIGITO INVÁLIDO. TENTE NOVAMENTE')\n",
    "\n",
    "\n",
    "\n"
   ]
  },
  {
   "cell_type": "code",
   "execution_count": null,
   "id": "20a0f41d",
   "metadata": {},
   "outputs": [],
   "source": []
  }
 ],
 "metadata": {
  "kernelspec": {
   "display_name": "Python 3",
   "language": "python",
   "name": "python3"
  },
  "language_info": {
   "codemirror_mode": {
    "name": "ipython",
    "version": 3
   },
   "file_extension": ".py",
   "mimetype": "text/x-python",
   "name": "python",
   "nbconvert_exporter": "python",
   "pygments_lexer": "ipython3",
   "version": "3.8.8"
  }
 },
 "nbformat": 4,
 "nbformat_minor": 5
}
