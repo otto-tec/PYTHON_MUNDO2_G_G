{
 "cells": [
  {
   "cell_type": "code",
   "execution_count": 8,
   "id": "71746985",
   "metadata": {},
   "outputs": [
    {
     "name": "stdout",
     "output_type": "stream",
     "text": [
      "Digite um número inteiro: 512\n",
      "Escolha uma das bases para conversão:\n",
      "[1] converter para BINÁRIO\n",
      "[2] converter para OCTAL\n",
      "[3] converter para HEXADECIMAL \n",
      "------------------------------\n",
      "Sua opção: 5\n",
      "-*-*-*-*-*-*-*-*-*-*-*-*-*-*-*-*-*-*-*-*-*-*-*-*-*-*-*-*-*-*\n",
      "Valor inválido\n"
     ]
    }
   ],
   "source": [
    "# PROGRAMAÇÃO QUE EU FIZ\n",
    "n1 = int(input('Digite um número inteiro: '))\n",
    "print('Escolha uma das bases para conversão:\\n[1] converter para BINÁRIO\\n[2] converter para OCTAL\\n[3] converter para HEXADECIMAL ')\n",
    "print('-'* 30)\n",
    "op = int(input('Sua opção: '))\n",
    "print('-*'* 30)\n",
    "\n",
    "if op == 1:\n",
    "    b = format(n1, 'b')\n",
    "    print('O valor {} convertido em binário é {}'.format(n1, b))\n",
    "    print('-*' * 30)\n",
    "elif op == 2:\n",
    "    o = format(n1, 'o')\n",
    "    print('O valor {} convertido em octal é {}'.format(n1, o))\n",
    "    print('-*' * 30)\n",
    "\n",
    "elif op == 3:  \n",
    "    h = hex(n1).split('x')[-1]\n",
    "    print('O valor {} convertido em hexadecimal é {}'.format(n1, h))\n",
    "    print('-*' * 30)\n",
    "\n",
    "else:\n",
    "    print('Valor inválido')\n",
    "\n",
    "\n",
    "#print('{} convertido para {} é igual a {}')\n"
   ]
  },
  {
   "cell_type": "code",
   "execution_count": 10,
   "id": "92cce9e2",
   "metadata": {},
   "outputs": [
    {
     "name": "stdout",
     "output_type": "stream",
     "text": [
      "Digite um número inteiro: 245\n",
      "Escoloa uma das base para conversão:\n",
      "[1] converter para BINÁRIO\n",
      "[2] converter para OCTAL\n",
      "[3] converter para HEXADECIMAL\n",
      "Sua opção: 3\n",
      "245 convertido para HEXADECIMAL é igaul a f5\n"
     ]
    }
   ],
   "source": [
    "# PROGRAMAÇÃO QUE O GUSTAVO FEZ\n",
    "num = int(input('Digite um número inteiro: '))\n",
    "print('''Escoloa uma das base para conversão:\n",
    "[1] converter para BINÁRIO\n",
    "[2] converter para OCTAL\n",
    "[3] converter para HEXADECIMAL''')\n",
    "\n",
    "opção = int(input('Sua opção: '))\n",
    "\n",
    "if opção == 1:\n",
    "    print('{} convertido para BINÁRIO é igual a {}'.format(num, bin(num)[2:]))\n",
    "elif opção == 2:   \n",
    "    print('{} convertido para OCTAL é igaul a {}'.format(num, oct(num)[2:]))\n",
    "elif opção == 3:\n",
    "    print('{} convertido para HEXADECIMAL é igaul a {}'.format(num, hex(num)[2:]))\n",
    "else:\n",
    "    print('Opção Inválida. Tente novamente!')\n"
   ]
  },
  {
   "cell_type": "markdown",
   "id": "deb6a82d",
   "metadata": {},
   "source": [
    "### Essa programação que o Gustavo fez é bem mais clean. Nela ele não tem que fazer mais que uma conversão por opção. Ele usou o [2:] para apagar os 2 primeiros caracteres da saida. Show !!!"
   ]
  },
  {
   "cell_type": "code",
   "execution_count": null,
   "id": "2fb1b2d4",
   "metadata": {},
   "outputs": [],
   "source": []
  }
 ],
 "metadata": {
  "kernelspec": {
   "display_name": "Python 3",
   "language": "python",
   "name": "python3"
  },
  "language_info": {
   "codemirror_mode": {
    "name": "ipython",
    "version": 3
   },
   "file_extension": ".py",
   "mimetype": "text/x-python",
   "name": "python",
   "nbconvert_exporter": "python",
   "pygments_lexer": "ipython3",
   "version": "3.8.8"
  }
 },
 "nbformat": 4,
 "nbformat_minor": 5
}
