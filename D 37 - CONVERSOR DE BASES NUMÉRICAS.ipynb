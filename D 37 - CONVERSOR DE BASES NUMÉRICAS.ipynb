{
 "cells": [
  {
   "cell_type": "code",
   "execution_count": 8,
   "id": "71746985",
   "metadata": {},
   "outputs": [
    {
     "name": "stdout",
     "output_type": "stream",
     "text": [
      "Digite um número inteiro: 512\n",
      "Escolha uma das bases para conversão:\n",
      "[1] converter para BINÁRIO\n",
      "[2] converter para OCTAL\n",
      "[3] converter para HEXADECIMAL \n",
      "------------------------------\n",
      "Sua opção: 5\n",
      "-*-*-*-*-*-*-*-*-*-*-*-*-*-*-*-*-*-*-*-*-*-*-*-*-*-*-*-*-*-*\n",
      "Valor inválido\n"
     ]
    }
   ],
   "source": [
    "n1 = int(input('Digite um número inteiro: '))\n",
    "print('Escolha uma das bases para conversão:\\n[1] converter para BINÁRIO\\n[2] converter para OCTAL\\n[3] converter para HEXADECIMAL ')\n",
    "print('-'* 30)\n",
    "op = int(input('Sua opção: '))\n",
    "print('-*'* 30)\n",
    "\n",
    "if op == 1:\n",
    "    b = format(n1, 'b')\n",
    "    print('O valor {} convertido em binário é {}'.format(n1, b))\n",
    "    print('-*' * 30)\n",
    "elif op == 2:\n",
    "    o = format(n1, 'o')\n",
    "    print('O valor {} convertido em octal é {}'.format(n1, o))\n",
    "    print('-*' * 30)\n",
    "\n",
    "elif op == 3:  \n",
    "    h = hex(n1).split('x')[-1]\n",
    "    print('O valor {} convertido em hexadecimal é {}'.format(n1, h))\n",
    "    print('-*' * 30)\n",
    "\n",
    "else:\n",
    "    print('Valor inválido')\n",
    "\n",
    "\n",
    "#print('{} convertido para {} é igual a {}')\n"
   ]
  },
  {
   "cell_type": "code",
   "execution_count": null,
   "id": "92cce9e2",
   "metadata": {},
   "outputs": [],
   "source": []
  },
  {
   "cell_type": "code",
   "execution_count": null,
   "id": "a4d89a5e",
   "metadata": {},
   "outputs": [],
   "source": []
  }
 ],
 "metadata": {
  "kernelspec": {
   "display_name": "Python 3",
   "language": "python",
   "name": "python3"
  },
  "language_info": {
   "codemirror_mode": {
    "name": "ipython",
    "version": 3
   },
   "file_extension": ".py",
   "mimetype": "text/x-python",
   "name": "python",
   "nbconvert_exporter": "python",
   "pygments_lexer": "ipython3",
   "version": "3.8.8"
  }
 },
 "nbformat": 4,
 "nbformat_minor": 5
}
