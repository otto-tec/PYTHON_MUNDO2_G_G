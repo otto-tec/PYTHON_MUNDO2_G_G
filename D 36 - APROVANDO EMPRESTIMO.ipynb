{
 "cells": [
  {
   "cell_type": "markdown",
   "id": "077d5efa",
   "metadata": {},
   "source": [
    "## DESAFIO 36\n",
    "### Escreva um programa para aprovar o empréstimo bancário para a compra de uma casa. Pergunte o valor da casa, o salário do comprador e em quantos anos ele vai pagar. A prestação mensal não pode exceder 30% do salário ou então o emprestimo será negado."
   ]
  },
  {
   "cell_type": "code",
   "execution_count": 6,
   "id": "7c947daf",
   "metadata": {},
   "outputs": [
    {
     "name": "stdout",
     "output_type": "stream",
     "text": [
      "Digite o valor da casa:R$ 480000\n",
      "Digite em quantos anos vai ser pago: 30\n",
      "Digite o valor do salário:R$ 4445\n",
      "=-==-==-==-==-==-==-==-==-==-==-==-==-==-==-==-==-==-==-==-==-==-==-==-==-==-==-==-==-==-==-==-==-==-==-==-==-==-==-==-==-==-==-==-==-==-==-==-==-==-==-==-==-==-==-==-==-==-==-==-=\n",
      "Para uma casa no valor de R$480000.00 parcelado em 360 meses, o salário mínimo aceito é de \u001b[7;30m R$ 4444.44 \u001b[m\n",
      "=-==-==-==-==-==-==-==-==-==-==-==-==-==-==-==-==-==-==-==-==-==-==-==-==-==-==-==-==-==-==-==-==-==-==-==-==-==-==-==-==-==-==-==-==-==-==-==-==-==-==-==-==-==-==-==-==-==-==-==-=\n",
      "A parcela da casa ficará em 1333.33\n",
      "\u001b[7;30m EMPRÉSTIMO AUTORIZADO \u001b[m\n"
     ]
    }
   ],
   "source": [
    "h = float(input('Digite o valor da casa:R$ '))\n",
    "y = int(input('Digite em quantos anos vai ser pago: '))\n",
    "s = float(input('Digite o valor do salário:R$ '))\n",
    "\n",
    "i     = y * 12\n",
    "p     = h / i\n",
    "s_per = s * 0.3\n",
    "print('=-=' * 60)\n",
    "print('Para uma casa no valor de R${:.2f} parcelado em {} meses, o salário mínimo aceito é de \\033[7;30m R$ {:.2f} \\033[m'.format(h, i, (p / 30) * 100))\n",
    "print('=-=' * 60)\n",
    "if  p > s_per:\n",
    "    print('A parcela da casa ficará em {:.2f}\\n\\033[7;30m EMPRÉSTIMO NEGADO \\033[m'.format(p))\n",
    "else:\n",
    "    print('A parcela da casa ficará em {:.2f}\\n\\033[7;30m EMPRÉSTIMO AUTORIZADO \\033[m'.format(p))\n",
    "\n"
   ]
  },
  {
   "cell_type": "code",
   "execution_count": null,
   "id": "b5f42cc2",
   "metadata": {},
   "outputs": [],
   "source": []
  }
 ],
 "metadata": {
  "kernelspec": {
   "display_name": "Python 3",
   "language": "python",
   "name": "python3"
  },
  "language_info": {
   "codemirror_mode": {
    "name": "ipython",
    "version": 3
   },
   "file_extension": ".py",
   "mimetype": "text/x-python",
   "name": "python",
   "nbconvert_exporter": "python",
   "pygments_lexer": "ipython3",
   "version": "3.8.8"
  }
 },
 "nbformat": 4,
 "nbformat_minor": 5
}
