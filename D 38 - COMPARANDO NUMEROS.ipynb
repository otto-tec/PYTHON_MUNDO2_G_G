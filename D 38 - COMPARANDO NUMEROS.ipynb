{
 "cells": [
  {
   "cell_type": "markdown",
   "id": "10eeb540",
   "metadata": {},
   "source": [
    "## DESAFIO 38\n",
    "### Escreva um programa que leia dois números inteiros e compare-os, mostrando na tela uma mensagem:\n",
    "- O primeiro valor é maior\n",
    "- O segundo valor é menor\n",
    "- Não existe valor maior, os dois são iguais."
   ]
  },
  {
   "cell_type": "code",
   "execution_count": 11,
   "id": "db2ea714",
   "metadata": {},
   "outputs": [
    {
     "name": "stdout",
     "output_type": "stream",
     "text": [
      "Digite o 1° valor: 5\n",
      "Digite o 2° valor: 5\n",
      "-*-*-*-*-*-*-*-*-*-*-*-*-*-*-*-*-*-*-*-*-*-*-*-*-*-*-*-*-*-*-*-*-*-*-*-*-*-*-*-*-*-*-*-*-*-*-*-*-*-*\n",
      "Não existe valor maior, os dois são iguais\n"
     ]
    }
   ],
   "source": [
    "n1 = int(input('Digite o 1° valor: '))\n",
    "n2 = int(input('Digite o 2° valor: '))\n",
    "\n",
    "print('-*'* 50)\n",
    "\n",
    "if n1 > n2:\n",
    "    print(f' O 1° valor {n1} é maior do que o 2° valor {n2}')\n",
    "elif n1 < n2:\n",
    "    print(f'O 2° valor {n2} é maior do que o 1° valor {n1}')\n",
    "elif n1 == n2:\n",
    "    print('Não existe valor maior, os dois são iguais')\n",
    "else:\n",
    "    print('Você digitou um valor inválido')\n"
   ]
  },
  {
   "cell_type": "code",
   "execution_count": null,
   "id": "2e0d3a3c",
   "metadata": {},
   "outputs": [],
   "source": []
  }
 ],
 "metadata": {
  "kernelspec": {
   "display_name": "Python 3",
   "language": "python",
   "name": "python3"
  },
  "language_info": {
   "codemirror_mode": {
    "name": "ipython",
    "version": 3
   },
   "file_extension": ".py",
   "mimetype": "text/x-python",
   "name": "python",
   "nbconvert_exporter": "python",
   "pygments_lexer": "ipython3",
   "version": "3.8.8"
  }
 },
 "nbformat": 4,
 "nbformat_minor": 5
}
