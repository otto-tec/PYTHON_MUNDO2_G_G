{
 "cells": [
  {
   "cell_type": "markdown",
   "id": "1eaf7bc7",
   "metadata": {},
   "source": [
    "## DESAFIO 55\n",
    "### Faça um programa que leia o peso de cinco pessoas. No final, mostre qual foi o maior e o menor peso lidos."
   ]
  },
  {
   "cell_type": "code",
   "execution_count": 34,
   "id": "cf02e274",
   "metadata": {},
   "outputs": [
    {
     "name": "stdout",
     "output_type": "stream",
     "text": [
      "Insira o peso da 1° pessoa: 50\n",
      "Insira o peso da 2° pessoa: 100\n",
      "Insira o peso da 3° pessoa: 80\n",
      "Insira o peso da 4° pessoa: 70\n",
      "Insira o peso da 5° pessoa: 65\n",
      "==============================\n",
      "A pessoa com maior peso tem 100.0 kilos.\n",
      "A pessoa com menor peso tem 50.0 kilos.\n"
     ]
    }
   ],
   "source": [
    "# Essa eu não consegui fazer. Fiz pelo que o Gustavo passou\n",
    "maior = 0\n",
    "menor = 0\n",
    "for p in range(1, 6):\n",
    "    peso = float(input('Insira o peso da {}° pessoa: '.format(p)))\n",
    "    if p == 1:\n",
    "        maior = peso\n",
    "        menor = peso\n",
    "    else:\n",
    "        if peso > maior:\n",
    "            maior = peso \n",
    "        if peso < menor:\n",
    "            menor = peso\n",
    "    \n",
    "print('='*30)    \n",
    "print('''A pessoa com maior peso tem {} kilos.\n",
    "A pessoa com menor peso tem {} kilos.'''.format(maior, menor))"
   ]
  },
  {
   "cell_type": "code",
   "execution_count": null,
   "id": "6c4363fe",
   "metadata": {},
   "outputs": [],
   "source": []
  },
  {
   "cell_type": "code",
   "execution_count": null,
   "id": "57189e8c",
   "metadata": {},
   "outputs": [],
   "source": []
  }
 ],
 "metadata": {
  "kernelspec": {
   "display_name": "Python 3",
   "language": "python",
   "name": "python3"
  },
  "language_info": {
   "codemirror_mode": {
    "name": "ipython",
    "version": 3
   },
   "file_extension": ".py",
   "mimetype": "text/x-python",
   "name": "python",
   "nbconvert_exporter": "python",
   "pygments_lexer": "ipython3",
   "version": "3.8.8"
  }
 },
 "nbformat": 4,
 "nbformat_minor": 5
}
