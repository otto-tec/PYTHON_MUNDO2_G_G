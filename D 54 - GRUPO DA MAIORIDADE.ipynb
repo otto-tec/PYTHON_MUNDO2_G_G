{
 "cells": [
  {
   "cell_type": "markdown",
   "id": "d05d0571",
   "metadata": {},
   "source": [
    "## DESAFIO 54\n",
    "### Crie um programa que leia o ano de nascimento de sete pessoas. No final, mostre quantas pessoas ainda não atingiram a maioridade e quantas já são maiores."
   ]
  },
  {
   "cell_type": "code",
   "execution_count": 12,
   "id": "d295b918",
   "metadata": {},
   "outputs": [
    {
     "name": "stdout",
     "output_type": "stream",
     "text": [
      "Insira o ano da 1° pessoa: 2000\n",
      "========================================\n",
      "Insira o ano da 2° pessoa: 2000\n",
      "========================================\n",
      "Insira o ano da 3° pessoa: 2000\n",
      "========================================\n",
      "Insira o ano da 4° pessoa: 2000\n",
      "========================================\n",
      "Insira o ano da 5° pessoa: 2000\n",
      "========================================\n",
      "Insira o ano da 6° pessoa: 2000\n",
      "========================================\n",
      "Insira o ano da 7° pessoa: 2000\n",
      "========================================\n",
      "Há 7 pessoas de maioridade e 0 de menoridade\n"
     ]
    }
   ],
   "source": [
    "# PROGRAMAÇÃO QUE EU FIZ\n",
    "from datetime import datetime\n",
    "ano = int(datetime.today().year)\n",
    "maior = 0\n",
    "menor = 0\n",
    "\n",
    "for i in range(1, 8):\n",
    "    idade = int(input('Insira o ano da {}° pessoa: '.format(i)))\n",
    "    print('='*40)\n",
    "    dif = ano - idade\n",
    "    maior += dif > 18\n",
    "    menor += dif < 18\n",
    "    \n",
    "\n",
    "print('Há {} pessoas de maioridade e {} de menoridade'.format(maior, menor))\n",
    "    \n",
    "    "
   ]
  },
  {
   "cell_type": "markdown",
   "id": "8d3f624a",
   "metadata": {},
   "source": [
    "### OBSERVAÇÕES:\n",
    "#### Percebi que quando queremos trabalhar com alguma variável que está sendo utilizada dentro do laço, temos que declarar ela antes na Global. Dessa forma podemos deixar a variável vázia na global, trabalhamos ela dentro do laço, e utilizamos ela novamente na Global com o resultado das operações dentro do laço."
   ]
  },
  {
   "cell_type": "code",
   "execution_count": 1,
   "id": "aa5b8ad5",
   "metadata": {},
   "outputs": [
    {
     "name": "stdout",
     "output_type": "stream",
     "text": [
      "Em que ano a 1° pessoa nasceu? 2020\n",
      "Em que ano a 2° pessoa nasceu? 2020\n",
      "Em que ano a 3° pessoa nasceu? 2020\n",
      "Em que ano a 4° pessoa nasceu? 2020\n",
      "Em que ano a 5° pessoa nasceu? 2020\n",
      "Em que ano a 6° pessoa nasceu? 2020\n",
      "Em que ano a 7° pessoa nasceu? 1900\n",
      "Ao todo tivemos 1 pessoas maiores de idade\n",
      "E também tivemos 6 pessoas menores de idade\n"
     ]
    }
   ],
   "source": [
    "# Programação feita pelo Gustavo\n",
    "from datetime import date\n",
    "atual = date.today().year\n",
    "totmaior = 0\n",
    "totmenor = 0\n",
    "for pess in range(1,8):\n",
    "    nasc = int(input('Em que ano a {}° pessoa nasceu? '.format(pess)))\n",
    "    idade = atual - nasc\n",
    "    if idade >= 21:\n",
    "        totmaior += 1\n",
    "    else:\n",
    "        totmenor += 1\n",
    "\n",
    "print('Ao todo tivemos {} pessoas maiores de idade'.format(totmaior))\n",
    "print('E também tivemos {} pessoas menores de idade'.format(totmenor))"
   ]
  },
  {
   "cell_type": "code",
   "execution_count": null,
   "id": "01030035",
   "metadata": {},
   "outputs": [],
   "source": []
  }
 ],
 "metadata": {
  "kernelspec": {
   "display_name": "Python 3",
   "language": "python",
   "name": "python3"
  },
  "language_info": {
   "codemirror_mode": {
    "name": "ipython",
    "version": 3
   },
   "file_extension": ".py",
   "mimetype": "text/x-python",
   "name": "python",
   "nbconvert_exporter": "python",
   "pygments_lexer": "ipython3",
   "version": "3.8.8"
  }
 },
 "nbformat": 4,
 "nbformat_minor": 5
}
