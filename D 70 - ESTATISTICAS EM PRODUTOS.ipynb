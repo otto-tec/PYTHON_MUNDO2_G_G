{
 "cells": [
  {
   "cell_type": "markdown",
   "id": "04fd3739",
   "metadata": {},
   "source": [
    "## DESAFIO 70\n",
    "### Crie um programa que leia o nome e o preço de vários produtos. O programa devera perguntar se o usuário vai continuar. No final, mostre:\n",
    "#### A) Qual é o total gasto na compra.\n",
    "#### B) Quantos produtos custam masi de RS 1000\n",
    "#### C) Qual é o nome do produto masi barato."
   ]
  },
  {
   "cell_type": "code",
   "execution_count": 1,
   "id": "a6548467",
   "metadata": {},
   "outputs": [
    {
     "name": "stdout",
     "output_type": "stream",
     "text": [
      "========================================\n",
      "          LOJA SUPER BARATÃO\n",
      "========================================\n",
      "Nome do Produto: aaa\n",
      "Preço: 50\n",
      "Quer continuar? [S/N] s\n",
      "Nome do Produto: ttt\n",
      "Preço: 1200\n",
      "Quer continuar? [S/N] c\n",
      "Quer continuar? [S/N] g\n",
      "Quer continuar? [S/N] s\n",
      "Nome do Produto: tytyt\n",
      "Preço: 70\n",
      "Quer continuar? [S/N] n\n",
      "==========FIM DO PROGRAMA==========\n",
      "O total da compra foi R$ 1320.00\n",
      "Temos 1 produtos custando mais de R$ 1000,00\n",
      "O produto mais barato foi aaa que custa R$ 50.00\n"
     ]
    }
   ],
   "source": [
    "import time\n",
    "print('=' * 40)\n",
    "print('          LOJA SUPER BARATÃO')\n",
    "print('=' * 40)\n",
    "time.sleep(0.5)\n",
    "soma = cust = c_mb = 0\n",
    "p_mb = ''\n",
    "cont = ''\n",
    "i = 0\n",
    "while True:\n",
    "\n",
    "        prod = str(input('Nome do Produto: '))\n",
    "        price = float(input('Preço: '))\n",
    "        soma += price  \n",
    "        cont = input('Quer continuar? [S/N] ').upper().strip()[0]\n",
    "        if price > 1000:\n",
    "            cust += 1\n",
    "        if c_mb > price or i == 0:\n",
    "            c_mb = price\n",
    "            p_mb = prod\n",
    "            i = 1\n",
    "        while cont not in 'SN':\n",
    "            cont = input('Quer continuar? [S/N] ').upper().strip()[0]\n",
    "        if cont == 'N':\n",
    "            break\n",
    "    \n",
    "print('==========FIM DO PROGRAMA==========')\n",
    "print(f'O total da compra foi R$ {soma:.2f}')\n",
    "print(f'Temos {cust} produtos custando mais de R$ 1000,00')\n",
    "print(f'O produto mais barato foi {p_mb} que custa R$ {c_mb:.2f}')\n"
   ]
  },
  {
   "cell_type": "code",
   "execution_count": null,
   "id": "181b9c5c",
   "metadata": {},
   "outputs": [],
   "source": []
  },
  {
   "cell_type": "code",
   "execution_count": null,
   "id": "f5088ad2",
   "metadata": {},
   "outputs": [],
   "source": []
  }
 ],
 "metadata": {
  "kernelspec": {
   "display_name": "Python 3",
   "language": "python",
   "name": "python3"
  },
  "language_info": {
   "codemirror_mode": {
    "name": "ipython",
    "version": 3
   },
   "file_extension": ".py",
   "mimetype": "text/x-python",
   "name": "python",
   "nbconvert_exporter": "python",
   "pygments_lexer": "ipython3",
   "version": "3.8.8"
  }
 },
 "nbformat": 4,
 "nbformat_minor": 5
}
