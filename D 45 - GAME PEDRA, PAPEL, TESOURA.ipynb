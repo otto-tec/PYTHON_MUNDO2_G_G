{
 "cells": [
  {
   "cell_type": "markdown",
   "id": "abd315be",
   "metadata": {},
   "source": [
    "## DESAFIO 45\n",
    "### Crie um programa que faça o computador jogar jokenpô com você."
   ]
  },
  {
   "cell_type": "code",
   "execution_count": null,
   "id": "8d7afdeb",
   "metadata": {},
   "outputs": [
    {
     "name": "stdout",
     "output_type": "stream",
     "text": [
      "Suas opções:\n",
      "[0] PEDRA\n",
      "[1] PAPEL\n",
      "[2] TESOURA\n"
     ]
    }
   ],
   "source": [
    "import random\n",
    "print('''Suas opções:\n",
    "[0] PEDRA\n",
    "[1] PAPEL\n",
    "[2] TESOURA''')\n",
    "\n",
    "entr = int(input('Qual é a sua jogada? '))\n",
    "print('''JO\n",
    "KEN\n",
    "PO !!!''')\n",
    "print('-=' * 30)\n",
    "\n",
    "comp = random.randint(0, 3)\n",
    "\n",
    "if (comp == 0 and entr == 2) or (comp == 1 and entr == 0) or (comp == 2 and entr == 1):\n",
    "    out = 'O COMPUTADOR GANHOU !!!'\n",
    "elif (comp == 0 and entr == 1) or (comp == 1 and entr == 2) or (comp == 2 and entr == 0):\n",
    "    out = 'VOCÊ GANHOU !!!'\n",
    "elif (comp == 0 and entr == 0) or (comp == 1 and entr == 1) or (comp ==3 and entr == 3):\n",
    "    out = 'DEU EMPATE.'\n",
    "\n",
    "\n",
    "print(out)\n"
   ]
  },
  {
   "cell_type": "code",
   "execution_count": null,
   "id": "f0c99a73",
   "metadata": {},
   "outputs": [],
   "source": []
  },
  {
   "cell_type": "code",
   "execution_count": null,
   "id": "038b5f32",
   "metadata": {},
   "outputs": [],
   "source": []
  }
 ],
 "metadata": {
  "kernelspec": {
   "display_name": "Python 3",
   "language": "python",
   "name": "python3"
  },
  "language_info": {
   "codemirror_mode": {
    "name": "ipython",
    "version": 3
   },
   "file_extension": ".py",
   "mimetype": "text/x-python",
   "name": "python",
   "nbconvert_exporter": "python",
   "pygments_lexer": "ipython3",
   "version": "3.8.8"
  }
 },
 "nbformat": 4,
 "nbformat_minor": 5
}
