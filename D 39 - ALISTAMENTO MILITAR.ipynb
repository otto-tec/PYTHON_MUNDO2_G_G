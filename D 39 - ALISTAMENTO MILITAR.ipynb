{
 "cells": [
  {
   "cell_type": "markdown",
   "id": "8aea93ef",
   "metadata": {},
   "source": [
    "## DESAFIO  39\n",
    "### Faça um programa que leia o ano de nascimento de um jovem e informe, de acordo com sua idade, se ele ainda vai se alistar ao serviço militar, se é a hora de se alistar ou se já passou do tempo do alistamento. Seu programa também deverá mostrar o tempo que falta ou que passou do prazo."
   ]
  },
  {
   "cell_type": "code",
   "execution_count": 23,
   "id": "acc0ec00",
   "metadata": {},
   "outputs": [
    {
     "name": "stdout",
     "output_type": "stream",
     "text": [
      "Data atual: 2021-11-03 21:11:25.792039\n",
      "Insira o ano de seu nascimento: 2010\n",
      "Você tem 11 anos de idade.\n",
      "Você terá que se alistar daqui a 7 anos, em 2028.\n"
     ]
    }
   ],
   "source": [
    "# Programa que eu fiz\n",
    "from datetime import date\n",
    "\n",
    "print('Data atual: {}'.format(datetime.today()))\n",
    "\n",
    "born = int(input('Insira o ano de seu nascimento: '))\n",
    "\n",
    "date  = datetime.today()\n",
    "value = int(date.strftime('%Y'))\n",
    "dif   =  value - born\n",
    "\n",
    "\n",
    "if dif > 18:\n",
    "    print('Você tem {} anos de idade.\\nVocê passou {} anos do prazo de alistamento!!\\nVocê deveria ter se alistado em {}'.format(dif, dif - 18, born + 18))\n",
    "elif dif == 18:\n",
    "    print('Você tem {} anos de idade.\\nEstá na hora de se alistar.'.format(dif))\n",
    "else:\n",
    "    print('Você tem {} anos de idade.\\nVocê terá que se alistar daqui a {} anos, em {}.'.format(dif, 18 - dif, born + 18))\n",
    "\n"
   ]
  },
  {
   "cell_type": "code",
   "execution_count": null,
   "id": "dddc27f5",
   "metadata": {},
   "outputs": [],
   "source": []
  },
  {
   "cell_type": "code",
   "execution_count": null,
   "id": "844ce91d",
   "metadata": {},
   "outputs": [],
   "source": []
  }
 ],
 "metadata": {
  "kernelspec": {
   "display_name": "Python 3",
   "language": "python",
   "name": "python3"
  },
  "language_info": {
   "codemirror_mode": {
    "name": "ipython",
    "version": 3
   },
   "file_extension": ".py",
   "mimetype": "text/x-python",
   "name": "python",
   "nbconvert_exporter": "python",
   "pygments_lexer": "ipython3",
   "version": "3.8.8"
  }
 },
 "nbformat": 4,
 "nbformat_minor": 5
}
