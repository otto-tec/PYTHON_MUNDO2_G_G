{
 "cells": [
  {
   "cell_type": "markdown",
   "id": "362cd23d",
   "metadata": {},
   "source": [
    "## DESAFIO 47\n",
    "### Crie um programa que mostre na tela todos os números pares que estão no intervalo entre 1 e 50"
   ]
  },
  {
   "cell_type": "code",
   "execution_count": 1,
   "id": "9369c346",
   "metadata": {},
   "outputs": [
    {
     "name": "stdout",
     "output_type": "stream",
     "text": [
      "0\n",
      "2\n",
      "4\n",
      "6\n",
      "8\n",
      "10\n",
      "12\n",
      "14\n",
      "16\n",
      "18\n",
      "20\n",
      "22\n",
      "24\n",
      "26\n",
      "28\n",
      "30\n",
      "32\n",
      "34\n",
      "36\n",
      "38\n",
      "40\n",
      "42\n",
      "44\n",
      "46\n",
      "48\n",
      "50\n"
     ]
    }
   ],
   "source": [
    "#MINHA PROGRAMAÇÃO\n",
    "for c in range(0, 51, 2):\n",
    "    print(c)\n",
    "print('ACABOU')"
   ]
  },
  {
   "cell_type": "code",
   "execution_count": 2,
   "id": "be0f0df8",
   "metadata": {},
   "outputs": [
    {
     "name": "stdout",
     "output_type": "stream",
     "text": [
      "2 4 6 8 10 12 14 16 18 20 22 24 26 28 30 32 34 36 38 40 42 44 46 48 50 ACABOU\n"
     ]
    }
   ],
   "source": [
    "# A PROGRAMAÇÃO QUE O GUSTAVO FEZ\n",
    "for n in range(2, 51, 2):\n",
    "    print(n, end = ' ')\n",
    "print('ACABOU')"
   ]
  },
  {
   "cell_type": "markdown",
   "id": "820dbc07",
   "metadata": {},
   "source": [
    "#### OBSERVAÇÃO: \n",
    "Perceba que ele usou uma operação chamada end. Essa operação alem de colocar os itens um ao lado do outro, permite que seja definido o 'caracter' de espaço entre eles."
   ]
  },
  {
   "cell_type": "code",
   "execution_count": null,
   "id": "f01e85d9",
   "metadata": {},
   "outputs": [],
   "source": []
  }
 ],
 "metadata": {
  "kernelspec": {
   "display_name": "Python 3",
   "language": "python",
   "name": "python3"
  },
  "language_info": {
   "codemirror_mode": {
    "name": "ipython",
    "version": 3
   },
   "file_extension": ".py",
   "mimetype": "text/x-python",
   "name": "python",
   "nbconvert_exporter": "python",
   "pygments_lexer": "ipython3",
   "version": "3.8.8"
  }
 },
 "nbformat": 4,
 "nbformat_minor": 5
}
