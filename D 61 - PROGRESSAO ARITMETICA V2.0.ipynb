{
 "cells": [
  {
   "cell_type": "markdown",
   "id": "a8473c94",
   "metadata": {},
   "source": [
    "## DESAFIO 61\n",
    "### Refaça o desafio 51, lendo o primeiro termo e a razão de uma PA, mostrando os 10 primeiros termos da progressão usando a estrutura while"
   ]
  },
  {
   "cell_type": "code",
   "execution_count": 16,
   "id": "a8ec1ab6",
   "metadata": {},
   "outputs": [
    {
     "name": "stdout",
     "output_type": "stream",
     "text": [
      "   GERADOR DE PA\n",
      "====================\n",
      "Primeiro termo: 4\n",
      "Razão da PA: 2\n",
      "4 => 6 => 8 => 10 => 12 => 14 => 16 => 18 => 20 => 22 \n",
      "                >>>Fim<<<\n"
     ]
    }
   ],
   "source": [
    "print('   GERADOR DE PA')\n",
    "print('='* 20)\n",
    "\n",
    "p_ter = int(input('Primeiro termo: '))\n",
    "r_pa = int(input('Razão da PA: '))\n",
    "c = 10\n",
    "#d = p_ter + (10-1) * r_pa\n",
    "\n",
    "while c > 0:\n",
    "    valor = p_ter\n",
    "    print(valor, end='')\n",
    "    print(' => ' if c > 1 else ' ', end = '')\n",
    "    p_ter += r_pa\n",
    "    c -= 1\n",
    "\n",
    "print('\\n                >>>Fim<<<')\n",
    "    "
   ]
  },
  {
   "cell_type": "code",
   "execution_count": null,
   "id": "7662d21c",
   "metadata": {},
   "outputs": [],
   "source": []
  }
 ],
 "metadata": {
  "kernelspec": {
   "display_name": "Python 3",
   "language": "python",
   "name": "python3"
  },
  "language_info": {
   "codemirror_mode": {
    "name": "ipython",
    "version": 3
   },
   "file_extension": ".py",
   "mimetype": "text/x-python",
   "name": "python",
   "nbconvert_exporter": "python",
   "pygments_lexer": "ipython3",
   "version": "3.8.8"
  }
 },
 "nbformat": 4,
 "nbformat_minor": 5
}
