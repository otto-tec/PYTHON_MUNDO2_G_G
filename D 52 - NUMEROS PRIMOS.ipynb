{
 "cells": [
  {
   "cell_type": "markdown",
   "id": "489e715a",
   "metadata": {},
   "source": [
    "## DESAFIO 52\n",
    "### Faça um programa que leia um número inteiro e diga se ele é ou não um número primo."
   ]
  },
  {
   "cell_type": "code",
   "execution_count": 8,
   "id": "5e44501c",
   "metadata": {},
   "outputs": [
    {
     "name": "stdout",
     "output_type": "stream",
     "text": [
      "==================================================\n",
      "         IDENTIFICANDO NÚMEROS PRIMOS\n",
      "==================================================\n",
      "Digite um número: 13\n",
      "\u001b[32m1 \u001b[31m2 \u001b[31m3 \u001b[31m4 \u001b[31m5 \u001b[31m6 \u001b[31m7 \u001b[31m8 \u001b[31m9 \u001b[31m10 \u001b[31m11 \u001b[31m12 \u001b[32m13 \n",
      " Onúmero \u001b[34m13\u001b[m foi divisível 2 vezes\n",
      "\u001b[36m ESSE NÚMERO É PRIMO !!\n"
     ]
    }
   ],
   "source": [
    "print('=' * 50)\n",
    "print('         IDENTIFICANDO NÚMEROS PRIMOS')\n",
    "print('=' * 50)\n",
    "\n",
    "n1 = int(input('Digite um número: '))\n",
    "t = 0\n",
    "for c in range(1, n1 + 1):\n",
    "    if n1 % c == 0:\n",
    "        print('\\033[32m',end='')\n",
    "        t += 1\n",
    "    else:\n",
    "        print('\\033[31m', end='')\n",
    "    print('{}'.format(c), end=' ')\n",
    "print('\\n Onúmero \\033[34m{}\\033[m foi divisível {} vezes'.format(n1, t))\n",
    "\n",
    "if t == 2:\n",
    "    print('\\033[36m ESSE NÚMERO É PRIMO !!')\n",
    "else:\n",
    "    print('\\033[31m ESSE NÚMERO NÃO É PRIMO !!')"
   ]
  },
  {
   "cell_type": "code",
   "execution_count": null,
   "id": "17d580e1",
   "metadata": {},
   "outputs": [],
   "source": []
  }
 ],
 "metadata": {
  "kernelspec": {
   "display_name": "Python 3",
   "language": "python",
   "name": "python3"
  },
  "language_info": {
   "codemirror_mode": {
    "name": "ipython",
    "version": 3
   },
   "file_extension": ".py",
   "mimetype": "text/x-python",
   "name": "python",
   "nbconvert_exporter": "python",
   "pygments_lexer": "ipython3",
   "version": "3.8.8"
  }
 },
 "nbformat": 4,
 "nbformat_minor": 5
}
