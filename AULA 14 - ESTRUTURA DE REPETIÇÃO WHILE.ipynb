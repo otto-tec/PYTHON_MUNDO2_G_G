{
 "cells": [
  {
   "cell_type": "markdown",
   "id": "0f7ece36",
   "metadata": {},
   "source": [
    "#### A  grande diferença entre a estrutura for para a while é que enquanto a primeira precisa ter um ponto de início e fim o while não. No while ele tem uma condicional, parece um pouco com um if, significa que enquanto essa condicional for verdadeira, ele não para de rodar."
   ]
  },
  {
   "cell_type": "markdown",
   "id": "efbac3ac",
   "metadata": {},
   "source": [
    "### ABAIXO O GUSTAVO UTILIZOU O FOR E O WHILE PARA A MESMA APLICAÇÃO. "
   ]
  },
  {
   "cell_type": "code",
   "execution_count": 1,
   "id": "5162f342",
   "metadata": {},
   "outputs": [
    {
     "name": "stdout",
     "output_type": "stream",
     "text": [
      "1\n",
      "2\n",
      "3\n",
      "4\n",
      "5\n",
      "6\n",
      "7\n",
      "8\n",
      "9\n",
      "Fim\n"
     ]
    }
   ],
   "source": [
    "# usando for\n",
    "for c in range(1, 10):\n",
    "    print(c)\n",
    "print('Fim')"
   ]
  },
  {
   "cell_type": "code",
   "execution_count": 4,
   "id": "9de12963",
   "metadata": {},
   "outputs": [
    {
     "name": "stdout",
     "output_type": "stream",
     "text": [
      "1\n",
      "2\n",
      "3\n",
      "4\n",
      "5\n",
      "6\n",
      "7\n",
      "8\n",
      "9\n",
      "Fim\n"
     ]
    }
   ],
   "source": [
    "# usando while\n",
    "c = 1\n",
    "while c < 10:\n",
    "    print(c)\n",
    "    c = c + 1\n",
    "print('Fim')"
   ]
  },
  {
   "cell_type": "markdown",
   "id": "74b0593c",
   "metadata": {},
   "source": [
    "#### Quando usar o While, simples, quando o limite for desconhecido. Caso contrário você pode usar qualquer um dos laços."
   ]
  },
  {
   "cell_type": "code",
   "execution_count": 5,
   "id": "afd99885",
   "metadata": {},
   "outputs": [
    {
     "name": "stdout",
     "output_type": "stream",
     "text": [
      "Digite um valor: 1\n",
      "Digite um valor: 2\n",
      "Digite um valor: 3\n",
      "Digite um valor: 4\n",
      "Digite um valor: 5\n",
      "Digite um valor: 0\n",
      "Você digitou 2 números pares e 3 números impares\n"
     ]
    }
   ],
   "source": [
    "# Um exemplo com condicionais identificando impares de pares\n",
    "n = 1\n",
    "par = impar = 0\n",
    "while n != 0:\n",
    "    n = int(input('Digite um valor: '))\n",
    "    if n != 0:\n",
    "        if n % 2 == 0:\n",
    "            par += 1\n",
    "        else:\n",
    "            impar += 1\n",
    "print('Você digitou {} números pares e {} números impares'.format(par, impar))\n",
    "        "
   ]
  },
  {
   "cell_type": "code",
   "execution_count": null,
   "id": "bfa439d1",
   "metadata": {},
   "outputs": [],
   "source": []
  }
 ],
 "metadata": {
  "kernelspec": {
   "display_name": "Python 3",
   "language": "python",
   "name": "python3"
  },
  "language_info": {
   "codemirror_mode": {
    "name": "ipython",
    "version": 3
   },
   "file_extension": ".py",
   "mimetype": "text/x-python",
   "name": "python",
   "nbconvert_exporter": "python",
   "pygments_lexer": "ipython3",
   "version": "3.8.8"
  }
 },
 "nbformat": 4,
 "nbformat_minor": 5
}
