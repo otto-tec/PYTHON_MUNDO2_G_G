{
 "cells": [
  {
   "cell_type": "markdown",
   "id": "c8587bd3",
   "metadata": {},
   "source": [
    "## DESAFIO 53\n",
    "### Crie um programa que leia uma frase qualquer e diga se ela é um palíndromo, desconsiderando os espaços."
   ]
  },
  {
   "cell_type": "code",
   "execution_count": 17,
   "id": "a9500571",
   "metadata": {},
   "outputs": [
    {
     "name": "stdout",
     "output_type": "stream",
     "text": [
      "==================================================\n",
      "           IDENTIFICADOR DE PALINDROMO\n",
      "==================================================\n",
      "Escreva uma frase: Otto Schultz Filho\n",
      "O inverso de OTTO SCHULTZ FILHO é OHLIFZTLUHCSOTTO\n",
      "-*-*-*-*-*-*-*-*-*-*-*-*-*-*-*-*-*-*-*-*-*-*-*-*-*\n",
      "A frase digitada não é um palíndromo!\n"
     ]
    }
   ],
   "source": [
    "# MINHA PROGRAMAÇÃO COM AJUDA DO GOOGLE\n",
    "print('='*50)\n",
    "print('           IDENTIFICADOR DE PALINDROMO')\n",
    "print('='*50)\n",
    "\n",
    "f = input('Escreva uma frase: ').upper()\n",
    "\n",
    "j = f.replace(' ','')\n",
    "\n",
    "inv = j[::-1]\n",
    "print('O inverso de {} é {}'.format(f, inv))\n",
    "print('-*'*25)\n",
    "\n",
    "if inv == f:\n",
    "    print('Temos um palíndromo!')\n",
    "else:\n",
    "    print('A frase digitada não é um palíndromo!')\n",
    "\n"
   ]
  },
  {
   "cell_type": "code",
   "execution_count": 19,
   "id": "6814d605",
   "metadata": {},
   "outputs": [
    {
     "name": "stdout",
     "output_type": "stream",
     "text": [
      "Digite uma frase: otto\n",
      "O iverso de OTTO é OTTO\n",
      "Temos um palíndromo!\n"
     ]
    }
   ],
   "source": [
    "# PROGRAMAÇÃO FEITA PELO GUSTAVO\n",
    "frase = str(input('Digite uma frase: ')).strip().upper()\n",
    "palavras = frase.split()\n",
    "junto = ''.join(palavras)\n",
    "inverso = ''\n",
    "for letra in range(len(junto) -1, -1, -1):\n",
    "    inverso += junto [letra]\n",
    "print('O iverso de {} é {}'.format(junto, inverso))\n",
    "if inverso == junto:\n",
    "    print('Temos um palíndromo!')\n",
    "else:\n",
    "    print('A frase digitada não é um palíndromo!')\n",
    "    "
   ]
  },
  {
   "cell_type": "markdown",
   "id": "b318e621",
   "metadata": {},
   "source": [
    "#### O Gustavo explicou que a programação que fiz acima se chama fatiamento."
   ]
  },
  {
   "cell_type": "code",
   "execution_count": null,
   "id": "3e52a574",
   "metadata": {},
   "outputs": [],
   "source": []
  }
 ],
 "metadata": {
  "kernelspec": {
   "display_name": "Python 3",
   "language": "python",
   "name": "python3"
  },
  "language_info": {
   "codemirror_mode": {
    "name": "ipython",
    "version": 3
   },
   "file_extension": ".py",
   "mimetype": "text/x-python",
   "name": "python",
   "nbconvert_exporter": "python",
   "pygments_lexer": "ipython3",
   "version": "3.8.8"
  }
 },
 "nbformat": 4,
 "nbformat_minor": 5
}
