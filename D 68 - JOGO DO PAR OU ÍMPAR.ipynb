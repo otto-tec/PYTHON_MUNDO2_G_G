{
 "cells": [
  {
   "cell_type": "markdown",
   "id": "8b99ddd4",
   "metadata": {},
   "source": [
    "## DESAFIO 68\n",
    "### Faça um programa que jogue par ou ímpar com o computador. O jogo só será interrompido quando o jogador PERDER, mostrando o total de vitórias consecutivas que ele conquistou no final do jogo."
   ]
  },
  {
   "cell_type": "code",
   "execution_count": null,
   "id": "1f9d575c",
   "metadata": {},
   "outputs": [],
   "source": [
    "import random, time\n",
    "comp = ac = 0\n",
    "print('=-' * 15)\n",
    "print('  VAMOS JOGAR PAR OU ÍMPAR')\n",
    "print('=-' * 15)\n",
    "time.sleep(0.5)\n",
    "while True:\n",
    "    n1 = int(input('Digite um valor: '))\n",
    "    p_i =  input('Par ou impar? [P/I]: ').upper().strip()\n",
    "    comp = random.randint(1, 20)\n",
    "    soma = comp + n1\n",
    "    if (soma % 2 == 0 and p_i == 'P') or (soma % 2 != 0 and p_i == 'I'):\n",
    "        print('-' * 55)\n",
    "        print(f'Eu optei pelo numero {comp} e você pelo {n1}. A soma deu {soma}')\n",
    "        print('-' * 55)\n",
    "        print(f'O valor é {soma} é {p_i}, você venceu!!')\n",
    "        print('-' * 30)\n",
    "        print('Vamos jogar novamente...')\n",
    "        ac += 1\n",
    "    else:\n",
    "        print('-' * 55)\n",
    "        print(f'Eu optei pelo numero {comp} e você pelo {n1}. A soma deu {soma}')\n",
    "        print('-' * 55)\n",
    "        print('Você PERDEU!!!')\n",
    "        break\n",
    "\n",
    "print(f'GAME OVER! Você venceu {ac} vezes.')"
   ]
  },
  {
   "cell_type": "code",
   "execution_count": 2,
   "id": "25df44e5",
   "metadata": {},
   "outputs": [
    {
     "name": "stdout",
     "output_type": "stream",
     "text": [
      "Diga um valor: 5\n",
      "Par ou Impar? [P/I]:  u\n",
      "Par ou Impar? [P/I]:  o\n",
      "Par ou Impar? [P/I]:  e\n",
      "Par ou Impar? [P/I]:  p\n",
      "Você jogou 5 e o computador 7. Total de 12DEU PAR\n",
      "Você VENCEU!\n",
      "Vamos jogar novamente...\n",
      "Diga um valor: 5\n",
      "Par ou Impar? [P/I]:  p\n",
      "Você jogou 5 e o computador 4. Total de 9DEU IMPAR\n",
      "Você PERDEU!\n",
      "GAME OVER! Você venceu 1 vezes.\n"
     ]
    }
   ],
   "source": [
    "# PROGRAMAÇÃO FEITA PELO GUSTAVO (BEM MAIOR)\n",
    "from random import randint\n",
    "v = 0\n",
    "while True:\n",
    "    jogador = int(input('Diga um valor: '))\n",
    "    computador = randint(0, 10)\n",
    "    total = jogador + computador\n",
    "    tipo = ' '\n",
    "    while tipo not in 'PI': \n",
    "        tipo = input('Par ou Impar? [P/I]:  ').strip().upper()[0] # esse 0 é para dizer que vai pegar somente a 1° letra\n",
    "    print(f'Você jogou {jogador} e o computador {computador}. Total de {total}', end='')\n",
    "    print('DEU PAR' if total % 2 == 0 else 'DEU IMPAR')\n",
    "    if tipo == 'P':\n",
    "        if total % 2 == 0:\n",
    "            print('Você VENCEU!')\n",
    "            v += 1\n",
    "        else:\n",
    "            print('Você PERDEU!')\n",
    "            break\n",
    "    elif tipo == 'I':\n",
    "        if total % 2 == 1:\n",
    "            print('Você VENCEU!')\n",
    "            v += 1\n",
    "        else:\n",
    "            print('Você PERDEU!')\n",
    "            break\n",
    "    print('Vamos jogar novamente...')\n",
    "print(f'GAME OVER! Você venceu {v} vezes.')\n",
    "    "
   ]
  },
  {
   "cell_type": "code",
   "execution_count": null,
   "id": "6dac22ce",
   "metadata": {},
   "outputs": [],
   "source": []
  }
 ],
 "metadata": {
  "kernelspec": {
   "display_name": "Python 3",
   "language": "python",
   "name": "python3"
  },
  "language_info": {
   "codemirror_mode": {
    "name": "ipython",
    "version": 3
   },
   "file_extension": ".py",
   "mimetype": "text/x-python",
   "name": "python",
   "nbconvert_exporter": "python",
   "pygments_lexer": "ipython3",
   "version": "3.8.8"
  }
 },
 "nbformat": 4,
 "nbformat_minor": 5
}
