{
 "cells": [
  {
   "cell_type": "markdown",
   "id": "1b3d4d8c",
   "metadata": {},
   "source": [
    "## DESAFIO 41\n",
    "### A Confederação Nacional de Natação precisa de um programa que leia o ano de nascimento de um atleta e mostre sua categoria, de acodo com a idade:\n",
    "- até 9 anos: MIRIM\n",
    "- Até 14 anos: INFANTIL\n",
    "- Até 19 anos: JUNIOR\n",
    "- Até 25 anos: SENIOR\n",
    "- Acima : MASTER"
   ]
  },
  {
   "cell_type": "code",
   "execution_count": 12,
   "id": "6b1ed0b4",
   "metadata": {},
   "outputs": [
    {
     "name": "stdout",
     "output_type": "stream",
     "text": [
      "Insira o ano de nascimento do atleta: 2000\n",
      "-*-*-*-*-*-*-*-*-*-*-*-*-*-*-*-*-*-*-*-*-*-*-*-*-*-*-*-*-*-*-*-*-*-*-*-*-*-*-*-*\n",
      "O atleta descrito tem 21 anos de idade.\n",
      "Status do atleta: SENIOR\n"
     ]
    }
   ],
   "source": [
    "from datetime import datetime\n",
    "\n",
    "n1 = int(input('Insira o ano de nascimento do atleta: '))\n",
    "date = datetime.today().year\n",
    "dif = date - n1\n",
    "print('-*' * 40)\n",
    "\n",
    "if dif <= 9:\n",
    "    result = 'MIRIM'\n",
    "elif dif <= 14:\n",
    "    result = 'INFANTIL'\n",
    "elif dif <= 19:\n",
    "    result = 'JUNIOR'\n",
    "elif dif <= 25:\n",
    "    result = 'SENIOR'\n",
    "else:\n",
    "    result = 'MASTER'\n",
    "\n",
    "print('O atleta descrito tem {} anos de idade.\\nCategoria do atleta: {}'.format(dif, result))\n"
   ]
  },
  {
   "cell_type": "code",
   "execution_count": null,
   "id": "cf0f2795",
   "metadata": {},
   "outputs": [],
   "source": []
  }
 ],
 "metadata": {
  "kernelspec": {
   "display_name": "Python 3",
   "language": "python",
   "name": "python3"
  },
  "language_info": {
   "codemirror_mode": {
    "name": "ipython",
    "version": 3
   },
   "file_extension": ".py",
   "mimetype": "text/x-python",
   "name": "python",
   "nbconvert_exporter": "python",
   "pygments_lexer": "ipython3",
   "version": "3.8.8"
  }
 },
 "nbformat": 4,
 "nbformat_minor": 5
}
