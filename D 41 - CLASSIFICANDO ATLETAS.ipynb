{
 "cells": [
  {
   "cell_type": "markdown",
   "id": "4d092a2a",
   "metadata": {},
   "source": [
    "## DESAFIO 41\n",
    "### A Confederação Nacional de Natação precisa de um programa que leia o ano de nascimento de um atleta e mostre sua categoria, de acodo com a idade:\n",
    "- até 9 anos: MIRIM\n",
    "- Até 14 anos: INFANTIL\n",
    "- Até 19 anos: JUNIOR\n",
    "- Até 25 anos: MASTER"
   ]
  },
  {
   "cell_type": "code",
   "execution_count": 10,
   "id": "d32f0211",
   "metadata": {},
   "outputs": [
    {
     "name": "stdout",
     "output_type": "stream",
     "text": [
      "Insira o ano de nascimento do atleta: 2001\n",
      "-*-*-*-*-*-*-*-*-*-*-*-*-*-*-*-*-*-*-*-*-*-*-*-*-*-*-*-*-*-*-*-*-*-*-*-*-*-*-*-*\n",
      "O atleta descrito tem 20 anos de idade.\n",
      "Status do atleta: MASTER\n"
     ]
    }
   ],
   "source": [
    "from datetime import datetime\n",
    "\n",
    "n1 = int(input('Insira o ano de nascimento do atleta: '))\n",
    "date = datetime.today().year\n",
    "dif = date - n1\n",
    "print('-*' * 40)\n",
    "\n",
    "if dif <= 9:\n",
    "    result = 'MIRIM'\n",
    "elif (dif > 9) and (dif <= 14):\n",
    "    result = 'INFANTIL'\n",
    "elif (dif > 14) and (dif <= 19):\n",
    "    result = 'JUNIOR'\n",
    "elif (dif > 19) and (dif <= 25):\n",
    "    result = 'MASTER'\n",
    "else:\n",
    "    result = 'FORA DA IDADE MAX. ACEITA!!!'\n",
    "\n",
    "print('O atleta descrito tem {} anos de idade.\\nStatus do atleta: {}'.format(dif, result))\n"
   ]
  },
  {
   "cell_type": "code",
   "execution_count": null,
   "id": "4807ec89",
   "metadata": {},
   "outputs": [],
   "source": []
  }
 ],
 "metadata": {
  "kernelspec": {
   "display_name": "Python 3",
   "language": "python",
   "name": "python3"
  },
  "language_info": {
   "codemirror_mode": {
    "name": "ipython",
    "version": 3
   },
   "file_extension": ".py",
   "mimetype": "text/x-python",
   "name": "python",
   "nbconvert_exporter": "python",
   "pygments_lexer": "ipython3",
   "version": "3.8.8"
  }
 },
 "nbformat": 4,
 "nbformat_minor": 5
}
