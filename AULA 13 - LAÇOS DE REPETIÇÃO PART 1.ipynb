{
 "cells": [
  {
   "cell_type": "markdown",
   "id": "5ace1c57",
   "metadata": {},
   "source": [
    "### Nessa aula explicou bastante sobre o conceito do laço. Especificamente o laço for."
   ]
  },
  {
   "cell_type": "code",
   "execution_count": 6,
   "id": "ed0d53be",
   "metadata": {},
   "outputs": [
    {
     "name": "stdout",
     "output_type": "stream",
     "text": [
      "oi\n",
      "oi\n",
      "oi\n",
      "oi\n",
      "oi\n",
      "oi\n",
      "FIM\n"
     ]
    }
   ],
   "source": [
    "# NESSE CASO ELE USA A QUANT. DE VEZES QUE SE DESEJA PRINTAR\n",
    "for c in range(0,6): \n",
    "    print('oi')\n",
    "print('FIM')"
   ]
  },
  {
   "cell_type": "code",
   "execution_count": 9,
   "id": "691b9c08",
   "metadata": {},
   "outputs": [
    {
     "name": "stdout",
     "output_type": "stream",
     "text": [
      "1\n",
      "2\n",
      "3\n",
      "4\n",
      "5\n",
      "6\n",
      "FIM\n"
     ]
    }
   ],
   "source": [
    "# NESSE CASO ELE IRÁ CONTAR E PRINTAR DE FORMA NUMERAL\n",
    "for c in range(1,7): \n",
    "    print(c)\n",
    "print('FIM')"
   ]
  },
  {
   "cell_type": "code",
   "execution_count": 10,
   "id": "fc7d7c1a",
   "metadata": {},
   "outputs": [
    {
     "name": "stdout",
     "output_type": "stream",
     "text": [
      "6\n",
      "5\n",
      "4\n",
      "3\n",
      "2\n",
      "1\n",
      "FIM\n"
     ]
    }
   ],
   "source": [
    "# NESSE CASO SE DESEJA CONTAR DE FORMA REGRESSIVA\n",
    "for c in range (6, 0, -1):\n",
    "    print(c)\n",
    "print('FIM')"
   ]
  },
  {
   "cell_type": "code",
   "execution_count": 12,
   "id": "77f4c793",
   "metadata": {},
   "outputs": [
    {
     "name": "stdout",
     "output_type": "stream",
     "text": [
      "0\n",
      "2\n",
      "4\n",
      "6\n",
      "fim\n"
     ]
    }
   ],
   "source": [
    "# NESSE CASO SE DESEJA CRIAR UM INTERVALO ENTRE NÚMEROS\n",
    "for c in range(0, 7, 2):# O 2 é o valor de intervalo\n",
    "    print(c)\n",
    "print('fim')"
   ]
  },
  {
   "cell_type": "code",
   "execution_count": 13,
   "id": "4515e0dd",
   "metadata": {},
   "outputs": [
    {
     "name": "stdout",
     "output_type": "stream",
     "text": [
      "Digite um número: 7\n",
      "0\n",
      "1\n",
      "2\n",
      "3\n",
      "4\n",
      "5\n",
      "6\n",
      "7\n",
      "fim\n"
     ]
    }
   ],
   "source": [
    "# NESSE CASO SE DESEJA CRIAR UM INPUT E O FOR TRABALHAR COM ESTA INFORMAÇÃO\n",
    "n = int(input('Digite um número: '))\n",
    "\n",
    "for c in range(0, n+1): # O n é o input, o +1 é para ele contar um a mais, no caso o próprio valor digitado no n.\n",
    "    print(c)\n",
    "print('fim')"
   ]
  },
  {
   "cell_type": "code",
   "execution_count": 15,
   "id": "2ca72997",
   "metadata": {},
   "outputs": [
    {
     "name": "stdout",
     "output_type": "stream",
     "text": [
      "Digite o início: 1\n",
      "Digite o intervalo: 3\n",
      "Digite o final:15\n",
      "1\n",
      "4\n",
      "7\n",
      "10\n",
      "13\n",
      "fim\n"
     ]
    }
   ],
   "source": [
    "#NESSE CASO SE DESEJA FAZER UM INPUT DAS TRÊS INFORMAÇÕES: INÍCIO, FIM E PASSO.\n",
    "\n",
    "i = int(input('Digite o início: '))\n",
    "p = int(input('Digite o intervalo: '))\n",
    "f = int(input('Digite o final:'))\n",
    "\n",
    "for c in range(i, f+1, p):\n",
    "    print(c)\n",
    "print('fim')"
   ]
  },
  {
   "cell_type": "code",
   "execution_count": 16,
   "id": "3e30e793",
   "metadata": {},
   "outputs": [
    {
     "name": "stdout",
     "output_type": "stream",
     "text": [
      "Digite um valor: 10\n",
      "Digite um valor: 4\n",
      "Digite um valor: 6\n",
      "Digite um valor: 1\n",
      "O somatório de todos os valores foi 21\n"
     ]
    }
   ],
   "source": [
    "#NESSE CASO SE DESEJA COLOCAR UM INPUT DENTRO DO FOR E TRABALHAR COM ELE, TAMBÉM DECLAROU-SE UMA VARIÁVEL FORA\n",
    "# CRIA-SE A VARIÁVEL FORA DO LAÇO PARA PODER UTILIZA-LA FORA DELE, NA GLOBAL.\n",
    "\n",
    "s = 0\n",
    "for c in range(0, 4):\n",
    "    n = int(input('Digite um valor: '))\n",
    "    s += n\n",
    "print('O somatório de todos os valores foi {}'.format(s))"
   ]
  },
  {
   "cell_type": "markdown",
   "id": "06c13c17",
   "metadata": {},
   "source": [
    "#### NA PROGRAMAÇÃO ACIMA ELE SOMOU PQ? \n",
    " Porque o for ele vai passar 4 vezes (nesse caso) pela programação até sair do laço. Como o s está somando o n ele vai acrescentando e somando em cada ciclo."
   ]
  },
  {
   "cell_type": "code",
   "execution_count": null,
   "id": "da8ae7f6",
   "metadata": {},
   "outputs": [],
   "source": []
  }
 ],
 "metadata": {
  "kernelspec": {
   "display_name": "Python 3",
   "language": "python",
   "name": "python3"
  },
  "language_info": {
   "codemirror_mode": {
    "name": "ipython",
    "version": 3
   },
   "file_extension": ".py",
   "mimetype": "text/x-python",
   "name": "python",
   "nbconvert_exporter": "python",
   "pygments_lexer": "ipython3",
   "version": "3.8.8"
  }
 },
 "nbformat": 4,
 "nbformat_minor": 5
}
