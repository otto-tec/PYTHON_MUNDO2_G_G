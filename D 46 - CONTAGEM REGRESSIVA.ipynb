{
 "cells": [
  {
   "cell_type": "markdown",
   "id": "46b48df3",
   "metadata": {},
   "source": [
    "## DESAFIO 46\n",
    "### Faça um programa que mostre na tela uma contagem regressiva para o estour de fogos de artifício, indo de 10 até 0, com uma pausa de  1 segundo entre eles."
   ]
  },
  {
   "cell_type": "code",
   "execution_count": 5,
   "id": "61183d83",
   "metadata": {},
   "outputs": [
    {
     "name": "stdout",
     "output_type": "stream",
     "text": [
      "10\n",
      "9\n",
      "8\n",
      "7\n",
      "6\n",
      "5\n",
      "4\n",
      "3\n",
      "2\n",
      "1\n",
      "0\n",
      "BUM! BUM! POWWW!!!\n"
     ]
    }
   ],
   "source": [
    "# MINHA PROGRAMAÇÃO\n",
    "import time #UNICA DIFERENÇA NO PROGRAMA DO GUSTAVO É QUE ELE IMPORTOU SOMENTE \n",
    "# A FERRAMENTA DA BIBLIOTECA = from time import sleep\n",
    "\n",
    "for c in range(10, -1, -1):\n",
    "    print(c)\n",
    "    time.sleep(1)\n",
    "\n",
    "print('BUM! BUM! POWWW!!!')"
   ]
  },
  {
   "cell_type": "code",
   "execution_count": null,
   "id": "d3583ae6",
   "metadata": {},
   "outputs": [],
   "source": []
  }
 ],
 "metadata": {
  "kernelspec": {
   "display_name": "Python 3",
   "language": "python",
   "name": "python3"
  },
  "language_info": {
   "codemirror_mode": {
    "name": "ipython",
    "version": 3
   },
   "file_extension": ".py",
   "mimetype": "text/x-python",
   "name": "python",
   "nbconvert_exporter": "python",
   "pygments_lexer": "ipython3",
   "version": "3.8.8"
  }
 },
 "nbformat": 4,
 "nbformat_minor": 5
}
